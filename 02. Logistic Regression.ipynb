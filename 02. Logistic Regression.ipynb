{
 "cells": [
  {
   "cell_type": "markdown",
   "metadata": {},
   "source": [
    "# Regression and ANOVA"
   ]
  },
  {
   "cell_type": "code",
   "execution_count": 4,
   "metadata": {
    "collapsed": false
   },
   "outputs": [],
   "source": [
    "library(ggplot2)"
   ]
  },
  {
   "cell_type": "code",
   "execution_count": 6,
   "metadata": {
    "collapsed": false
   },
   "outputs": [
    {
     "data": {
      "text/html": [
       "<ol class=list-inline>\n",
       "\t<li>53940</li>\n",
       "\t<li>10</li>\n",
       "</ol>\n"
      ],
      "text/latex": [
       "\\begin{enumerate*}\n",
       "\\item 53940\n",
       "\\item 10\n",
       "\\end{enumerate*}\n"
      ],
      "text/markdown": [
       "1. 53940\n",
       "2. 10\n",
       "\n",
       "\n"
      ],
      "text/plain": [
       "[1] 53940    10"
      ]
     },
     "metadata": {},
     "output_type": "display_data"
    },
    {
     "data": {
      "text/plain": [
       "     carat               cut        color        clarity          depth      \n",
       " Min.   :0.2000   Fair     : 1610   D: 6775   SI1    :13065   Min.   :43.00  \n",
       " 1st Qu.:0.4000   Good     : 4906   E: 9797   VS2    :12258   1st Qu.:61.00  \n",
       " Median :0.7000   Very Good:12082   F: 9542   SI2    : 9194   Median :61.80  \n",
       " Mean   :0.7979   Premium  :13791   G:11292   VS1    : 8171   Mean   :61.75  \n",
       " 3rd Qu.:1.0400   Ideal    :21551   H: 8304   VVS2   : 5066   3rd Qu.:62.50  \n",
       " Max.   :5.0100                     I: 5422   VVS1   : 3655   Max.   :79.00  \n",
       "                                    J: 2808   (Other): 2531                  \n",
       "     table           price             x                y         \n",
       " Min.   :43.00   Min.   :  326   Min.   : 0.000   Min.   : 0.000  \n",
       " 1st Qu.:56.00   1st Qu.:  950   1st Qu.: 4.710   1st Qu.: 4.720  \n",
       " Median :57.00   Median : 2401   Median : 5.700   Median : 5.710  \n",
       " Mean   :57.46   Mean   : 3933   Mean   : 5.731   Mean   : 5.735  \n",
       " 3rd Qu.:59.00   3rd Qu.: 5324   3rd Qu.: 6.540   3rd Qu.: 6.540  \n",
       " Max.   :95.00   Max.   :18823   Max.   :10.740   Max.   :58.900  \n",
       "                                                                  \n",
       "       z         \n",
       " Min.   : 0.000  \n",
       " 1st Qu.: 2.910  \n",
       " Median : 3.530  \n",
       " Mean   : 3.539  \n",
       " 3rd Qu.: 4.040  \n",
       " Max.   :31.800  \n",
       "                 "
      ]
     },
     "metadata": {},
     "output_type": "display_data"
    }
   ],
   "source": [
    "dim(diamonds)\n",
    "summary(diamonds)"
   ]
  },
  {
   "cell_type": "code",
   "execution_count": 26,
   "metadata": {
    "collapsed": false
   },
   "outputs": [
    {
     "data": {
      "text/html": [
       "<ol class=list-inline>\n",
       "\t<li>53920</li>\n",
       "\t<li>10</li>\n",
       "</ol>\n"
      ],
      "text/latex": [
       "\\begin{enumerate*}\n",
       "\\item 53920\n",
       "\\item 10\n",
       "\\end{enumerate*}\n"
      ],
      "text/markdown": [
       "1. 53920\n",
       "2. 10\n",
       "\n",
       "\n"
      ],
      "text/plain": [
       "[1] 53920    10"
      ]
     },
     "metadata": {},
     "output_type": "display_data"
    }
   ],
   "source": [
    "d <- diamonds[diamonds$x>0 & diamonds$y >0 & diamonds$z>0,]\n",
    "dim(d)"
   ]
  },
  {
   "cell_type": "code",
   "execution_count": 9,
   "metadata": {
    "collapsed": false
   },
   "outputs": [
    {
     "data": {
      "text/html": [
       "<table>\n",
       "<thead><tr><th></th><th scope=col>carat</th><th scope=col>depth</th><th scope=col>table</th><th scope=col>price</th><th scope=col>x</th><th scope=col>y</th><th scope=col>z</th></tr></thead>\n",
       "<tbody>\n",
       "\t<tr><th scope=row>carat</th><td>1.00000000 </td><td> 0.02825919</td><td> 0.1816460 </td><td> 0.92159206</td><td> 0.97777862</td><td> 0.95399074</td><td>0.96104758 </td></tr>\n",
       "\t<tr><th scope=row>depth</th><td>0.02825919 </td><td> 1.00000000</td><td>-0.2957335 </td><td>-0.01072892</td><td>-0.02501673</td><td>-0.02906877</td><td>0.09502252 </td></tr>\n",
       "\t<tr><th scope=row>table</th><td>0.18164596 </td><td>-0.29573346</td><td> 1.0000000 </td><td> 0.12724530</td><td> 0.19609736</td><td> 0.18449347</td><td>0.15248337 </td></tr>\n",
       "\t<tr><th scope=row>price</th><td>0.92159206 </td><td>-0.01072892</td><td> 0.1272453 </td><td> 1.00000000</td><td> 0.88723137</td><td> 0.86786424</td><td>0.86820640 </td></tr>\n",
       "\t<tr><th scope=row>x</th><td>0.97777862 </td><td>-0.02501673</td><td> 0.1960974 </td><td> 0.88723137</td><td> 1.00000000</td><td> 0.97491827</td><td>0.97543508 </td></tr>\n",
       "\t<tr><th scope=row>y</th><td>0.95399074 </td><td>-0.02906877</td><td> 0.1844935 </td><td> 0.86786424</td><td> 0.97491827</td><td> 1.00000000</td><td>0.95674373 </td></tr>\n",
       "\t<tr><th scope=row>z</th><td>0.96104758 </td><td> 0.09502252</td><td> 0.1524834 </td><td> 0.86820640</td><td> 0.97543508</td><td> 0.95674373</td><td>1.00000000 </td></tr>\n",
       "</tbody>\n",
       "</table>\n"
      ],
      "text/latex": [
       "\\begin{tabular}{r|lllllll}\n",
       "  & carat & depth & table & price & x & y & z\\\\\n",
       "\\hline\n",
       "\tcarat & 1.00000000  &  0.02825919 &  0.1816460  &  0.92159206 &  0.97777862 &  0.95399074 & 0.96104758 \\\\\n",
       "\tdepth & 0.02825919  &  1.00000000 & -0.2957335  & -0.01072892 & -0.02501673 & -0.02906877 & 0.09502252 \\\\\n",
       "\ttable & 0.18164596  & -0.29573346 &  1.0000000  &  0.12724530 &  0.19609736 &  0.18449347 & 0.15248337 \\\\\n",
       "\tprice & 0.92159206  & -0.01072892 &  0.1272453  &  1.00000000 &  0.88723137 &  0.86786424 & 0.86820640 \\\\\n",
       "\tx & 0.97777862  & -0.02501673 &  0.1960974  &  0.88723137 &  1.00000000 &  0.97491827 & 0.97543508 \\\\\n",
       "\ty & 0.95399074  & -0.02906877 &  0.1844935  &  0.86786424 &  0.97491827 &  1.00000000 & 0.95674373 \\\\\n",
       "\tz & 0.96104758  &  0.09502252 &  0.1524834  &  0.86820640 &  0.97543508 &  0.95674373 & 1.00000000 \\\\\n",
       "\\end{tabular}\n"
      ],
      "text/markdown": [
       "\n",
       "| <!--/--> | carat | depth | table | price | x | y | z | \n",
       "|---|---|---|---|---|---|---|\n",
       "| carat | 1.00000000  |  0.02825919 |  0.1816460  |  0.92159206 |  0.97777862 |  0.95399074 | 0.96104758  | \n",
       "| depth | 0.02825919  |  1.00000000 | -0.2957335  | -0.01072892 | -0.02501673 | -0.02906877 | 0.09502252  | \n",
       "| table | 0.18164596  | -0.29573346 |  1.0000000  |  0.12724530 |  0.19609736 |  0.18449347 | 0.15248337  | \n",
       "| price | 0.92159206  | -0.01072892 |  0.1272453  |  1.00000000 |  0.88723137 |  0.86786424 | 0.86820640  | \n",
       "| x | 0.97777862  | -0.02501673 |  0.1960974  |  0.88723137 |  1.00000000 |  0.97491827 | 0.97543508  | \n",
       "| y | 0.95399074  | -0.02906877 |  0.1844935  |  0.86786424 |  0.97491827 |  1.00000000 | 0.95674373  | \n",
       "| z | 0.96104758  |  0.09502252 |  0.1524834  |  0.86820640 |  0.97543508 |  0.95674373 | 1.00000000  | \n",
       "\n",
       "\n"
      ],
      "text/plain": [
       "      carat      depth       table      price       x           y          \n",
       "carat 1.00000000  0.02825919  0.1816460  0.92159206  0.97777862  0.95399074\n",
       "depth 0.02825919  1.00000000 -0.2957335 -0.01072892 -0.02501673 -0.02906877\n",
       "table 0.18164596 -0.29573346  1.0000000  0.12724530  0.19609736  0.18449347\n",
       "price 0.92159206 -0.01072892  0.1272453  1.00000000  0.88723137  0.86786424\n",
       "x     0.97777862 -0.02501673  0.1960974  0.88723137  1.00000000  0.97491827\n",
       "y     0.95399074 -0.02906877  0.1844935  0.86786424  0.97491827  1.00000000\n",
       "z     0.96104758  0.09502252  0.1524834  0.86820640  0.97543508  0.95674373\n",
       "      z         \n",
       "carat 0.96104758\n",
       "depth 0.09502252\n",
       "table 0.15248337\n",
       "price 0.86820640\n",
       "x     0.97543508\n",
       "y     0.95674373\n",
       "z     1.00000000"
      ]
     },
     "metadata": {},
     "output_type": "display_data"
    }
   ],
   "source": [
    "### Correlations of numeric attributes\n",
    "cor(d[,-c(2:4)])"
   ]
  },
  {
   "cell_type": "code",
   "execution_count": 10,
   "metadata": {
    "collapsed": false
   },
   "outputs": [
    {
     "data": {
      "image/png": "[encoded data removed]",
      "text/plain": [
       "plot without title"
      ]
     },
     "metadata": {},
     "output_type": "display_data"
    }
   ],
   "source": [
    "pairs(d[,-c(2:4)])"
   ]
  },
  {
   "cell_type": "code",
   "execution_count": 30,
   "metadata": {
    "collapsed": false
   },
   "outputs": [
    {
     "data": {
      "text/html": [
       "<table>\n",
       "<thead><tr><th scope=col>carat</th><th scope=col>cut</th><th scope=col>color</th><th scope=col>clarity</th><th scope=col>depth</th><th scope=col>table</th><th scope=col>price</th><th scope=col>x</th><th scope=col>y</th><th scope=col>z</th></tr></thead>\n",
       "<tbody>\n",
       "\t<tr><td>1.54     </td><td>Premium  </td><td>I        </td><td>SI2      </td><td>60.1     </td><td>61       </td><td> 7727    </td><td>7.46     </td><td>7.41     </td><td>4.47     </td></tr>\n",
       "\t<tr><td>1.08     </td><td>Ideal    </td><td>E        </td><td>VS1      </td><td>61.6     </td><td>57       </td><td> 8674    </td><td>6.58     </td><td>6.61     </td><td>4.06     </td></tr>\n",
       "\t<tr><td>0.65     </td><td>Very Good</td><td>H        </td><td>VVS1     </td><td>61.6     </td><td>58       </td><td> 2318    </td><td>5.57     </td><td>5.62     </td><td>3.42     </td></tr>\n",
       "\t<tr><td>1.54     </td><td>Premium  </td><td>G        </td><td>VS2      </td><td>61.1     </td><td>59       </td><td>12308    </td><td>7.44     </td><td>7.40     </td><td>4.53     </td></tr>\n",
       "\t<tr><td>0.90     </td><td>Premium  </td><td>F        </td><td>VS2      </td><td>61.9     </td><td>55       </td><td> 4536    </td><td>6.25     </td><td>6.23     </td><td>3.86     </td></tr>\n",
       "\t<tr><td>0.50     </td><td>Premium  </td><td>E        </td><td>VS2      </td><td>60.3     </td><td>58       </td><td> 1920    </td><td>5.15     </td><td>5.13     </td><td>3.10     </td></tr>\n",
       "</tbody>\n",
       "</table>\n"
      ],
      "text/latex": [
       "\\begin{tabular}{r|llllllllll}\n",
       " carat & cut & color & clarity & depth & table & price & x & y & z\\\\\n",
       "\\hline\n",
       "\t 1.54      & Premium   & I         & SI2       & 60.1      & 61        &  7727     & 7.46      & 7.41      & 4.47     \\\\\n",
       "\t 1.08      & Ideal     & E         & VS1       & 61.6      & 57        &  8674     & 6.58      & 6.61      & 4.06     \\\\\n",
       "\t 0.65      & Very Good & H         & VVS1      & 61.6      & 58        &  2318     & 5.57      & 5.62      & 3.42     \\\\\n",
       "\t 1.54      & Premium   & G         & VS2       & 61.1      & 59        & 12308     & 7.44      & 7.40      & 4.53     \\\\\n",
       "\t 0.90      & Premium   & F         & VS2       & 61.9      & 55        &  4536     & 6.25      & 6.23      & 3.86     \\\\\n",
       "\t 0.50      & Premium   & E         & VS2       & 60.3      & 58        &  1920     & 5.15      & 5.13      & 3.10     \\\\\n",
       "\\end{tabular}\n"
      ],
      "text/markdown": [
       "\n",
       "carat | cut | color | clarity | depth | table | price | x | y | z | \n",
       "|---|---|---|---|---|---|\n",
       "| 1.54      | Premium   | I         | SI2       | 60.1      | 61        |  7727     | 7.46      | 7.41      | 4.47      | \n",
       "| 1.08      | Ideal     | E         | VS1       | 61.6      | 57        |  8674     | 6.58      | 6.61      | 4.06      | \n",
       "| 0.65      | Very Good | H         | VVS1      | 61.6      | 58        |  2318     | 5.57      | 5.62      | 3.42      | \n",
       "| 1.54      | Premium   | G         | VS2       | 61.1      | 59        | 12308     | 7.44      | 7.40      | 4.53      | \n",
       "| 0.90      | Premium   | F         | VS2       | 61.9      | 55        |  4536     | 6.25      | 6.23      | 3.86      | \n",
       "| 0.50      | Premium   | E         | VS2       | 60.3      | 58        |  1920     | 5.15      | 5.13      | 3.10      | \n",
       "\n",
       "\n"
      ],
      "text/plain": [
       "  carat cut       color clarity depth table price x    y    z   \n",
       "1 1.54  Premium   I     SI2     60.1  61     7727 7.46 7.41 4.47\n",
       "2 1.08  Ideal     E     VS1     61.6  57     8674 6.58 6.61 4.06\n",
       "3 0.65  Very Good H     VVS1    61.6  58     2318 5.57 5.62 3.42\n",
       "4 1.54  Premium   G     VS2     61.1  59    12308 7.44 7.40 4.53\n",
       "5 0.90  Premium   F     VS2     61.9  55     4536 6.25 6.23 3.86\n",
       "6 0.50  Premium   E     VS2     60.3  58     1920 5.15 5.13 3.10"
      ]
     },
     "metadata": {},
     "output_type": "display_data"
    },
    {
     "data": {
      "text/html": [
       "<ol class=list-inline>\n",
       "\t<li>43136</li>\n",
       "\t<li>10</li>\n",
       "</ol>\n"
      ],
      "text/latex": [
       "\\begin{enumerate*}\n",
       "\\item 43136\n",
       "\\item 10\n",
       "\\end{enumerate*}\n"
      ],
      "text/markdown": [
       "1. 43136\n",
       "2. 10\n",
       "\n",
       "\n"
      ],
      "text/plain": [
       "[1] 43136    10"
      ]
     },
     "metadata": {},
     "output_type": "display_data"
    },
    {
     "data": {
      "text/html": [
       "<table>\n",
       "<thead><tr><th scope=col>carat</th><th scope=col>cut</th><th scope=col>color</th><th scope=col>clarity</th><th scope=col>depth</th><th scope=col>table</th><th scope=col>price</th><th scope=col>x</th><th scope=col>y</th><th scope=col>z</th></tr></thead>\n",
       "<tbody>\n",
       "\t<tr><td>0.23     </td><td>Ideal    </td><td>E        </td><td>SI2      </td><td>61.5     </td><td>55       </td><td>326      </td><td>3.95     </td><td>3.98     </td><td>2.43     </td></tr>\n",
       "\t<tr><td>0.23     </td><td>Very Good</td><td>H        </td><td>VS1      </td><td>59.4     </td><td>61       </td><td>338      </td><td>4.00     </td><td>4.05     </td><td>2.39     </td></tr>\n",
       "\t<tr><td>0.22     </td><td>Premium  </td><td>F        </td><td>SI1      </td><td>60.4     </td><td>61       </td><td>342      </td><td>3.88     </td><td>3.84     </td><td>2.33     </td></tr>\n",
       "\t<tr><td>0.20     </td><td>Premium  </td><td>E        </td><td>SI2      </td><td>60.2     </td><td>62       </td><td>345      </td><td>3.79     </td><td>3.75     </td><td>2.27     </td></tr>\n",
       "\t<tr><td>0.23     </td><td>Very Good</td><td>H        </td><td>VS1      </td><td>61.0     </td><td>57       </td><td>353      </td><td>3.94     </td><td>3.96     </td><td>2.41     </td></tr>\n",
       "\t<tr><td>0.23     </td><td>Very Good</td><td>G        </td><td>VVS2     </td><td>60.4     </td><td>58       </td><td>354      </td><td>3.97     </td><td>4.01     </td><td>2.41     </td></tr>\n",
       "</tbody>\n",
       "</table>\n"
      ],
      "text/latex": [
       "\\begin{tabular}{r|llllllllll}\n",
       " carat & cut & color & clarity & depth & table & price & x & y & z\\\\\n",
       "\\hline\n",
       "\t 0.23      & Ideal     & E         & SI2       & 61.5      & 55        & 326       & 3.95      & 3.98      & 2.43     \\\\\n",
       "\t 0.23      & Very Good & H         & VS1       & 59.4      & 61        & 338       & 4.00      & 4.05      & 2.39     \\\\\n",
       "\t 0.22      & Premium   & F         & SI1       & 60.4      & 61        & 342       & 3.88      & 3.84      & 2.33     \\\\\n",
       "\t 0.20      & Premium   & E         & SI2       & 60.2      & 62        & 345       & 3.79      & 3.75      & 2.27     \\\\\n",
       "\t 0.23      & Very Good & H         & VS1       & 61.0      & 57        & 353       & 3.94      & 3.96      & 2.41     \\\\\n",
       "\t 0.23      & Very Good & G         & VVS2      & 60.4      & 58        & 354       & 3.97      & 4.01      & 2.41     \\\\\n",
       "\\end{tabular}\n"
      ],
      "text/markdown": [
       "\n",
       "carat | cut | color | clarity | depth | table | price | x | y | z | \n",
       "|---|---|---|---|---|---|\n",
       "| 0.23      | Ideal     | E         | SI2       | 61.5      | 55        | 326       | 3.95      | 3.98      | 2.43      | \n",
       "| 0.23      | Very Good | H         | VS1       | 59.4      | 61        | 338       | 4.00      | 4.05      | 2.39      | \n",
       "| 0.22      | Premium   | F         | SI1       | 60.4      | 61        | 342       | 3.88      | 3.84      | 2.33      | \n",
       "| 0.20      | Premium   | E         | SI2       | 60.2      | 62        | 345       | 3.79      | 3.75      | 2.27      | \n",
       "| 0.23      | Very Good | H         | VS1       | 61.0      | 57        | 353       | 3.94      | 3.96      | 2.41      | \n",
       "| 0.23      | Very Good | G         | VVS2      | 60.4      | 58        | 354       | 3.97      | 4.01      | 2.41      | \n",
       "\n",
       "\n"
      ],
      "text/plain": [
       "  carat cut       color clarity depth table price x    y    z   \n",
       "1 0.23  Ideal     E     SI2     61.5  55    326   3.95 3.98 2.43\n",
       "2 0.23  Very Good H     VS1     59.4  61    338   4.00 4.05 2.39\n",
       "3 0.22  Premium   F     SI1     60.4  61    342   3.88 3.84 2.33\n",
       "4 0.20  Premium   E     SI2     60.2  62    345   3.79 3.75 2.27\n",
       "5 0.23  Very Good H     VS1     61.0  57    353   3.94 3.96 2.41\n",
       "6 0.23  Very Good G     VVS2    60.4  58    354   3.97 4.01 2.41"
      ]
     },
     "metadata": {},
     "output_type": "display_data"
    },
    {
     "data": {
      "text/html": [
       "<ol class=list-inline>\n",
       "\t<li>10784</li>\n",
       "\t<li>10</li>\n",
       "</ol>\n"
      ],
      "text/latex": [
       "\\begin{enumerate*}\n",
       "\\item 10784\n",
       "\\item 10\n",
       "\\end{enumerate*}\n"
      ],
      "text/markdown": [
       "1. 10784\n",
       "2. 10\n",
       "\n",
       "\n"
      ],
      "text/plain": [
       "[1] 10784    10"
      ]
     },
     "metadata": {},
     "output_type": "display_data"
    }
   ],
   "source": [
    "### regression is supervised machine learning\n",
    "### create training & test sets - 80:20\n",
    "train <- sample(1:nrow(d),.8*nrow(d),replace=F)\n",
    "dtrain <- d[train,]\n",
    "dtest  <- d[-train,]\n",
    "head(dtrain); dim(dtrain)\n",
    "head(dtest); dim(dtest)"
   ]
  },
  {
   "cell_type": "code",
   "execution_count": 31,
   "metadata": {
    "collapsed": false
   },
   "outputs": [
    {
     "data": {
      "text/plain": [
       "\n",
       "Call:\n",
       "lm(formula = price ~ carat + x + y + z, data = dtrain)\n",
       "\n",
       "Residuals:\n",
       "     Min       1Q   Median       3Q      Max \n",
       "-24067.5   -631.8    -22.8    338.5  19487.8 \n",
       "\n",
       "Coefficients:\n",
       "            Estimate Std. Error t value Pr(>|t|)    \n",
       "(Intercept)  2473.66     123.47   20.03   <2e-16 ***\n",
       "carat       10591.88      74.49  142.20   <2e-16 ***\n",
       "x           -1405.69      62.42  -22.52   <2e-16 ***\n",
       "y             599.14      51.90   11.54   <2e-16 ***\n",
       "z            -669.24      44.51  -15.04   <2e-16 ***\n",
       "---\n",
       "Signif. codes:  0 ‘***’ 0.001 ‘**’ 0.01 ‘*’ 0.05 ‘.’ 0.1 ‘ ’ 1\n",
       "\n",
       "Residual standard error: 1516 on 43131 degrees of freedom\n",
       "Multiple R-squared:  0.8557,\tAdjusted R-squared:  0.8557 \n",
       "F-statistic: 6.395e+04 on 4 and 43131 DF,  p-value: < 2.2e-16\n"
      ]
     },
     "metadata": {},
     "output_type": "display_data"
    }
   ],
   "source": [
    "l0 <- lm(price ~ carat + x + y + z, data=dtrain)\n",
    "summary(l0)"
   ]
  },
  {
   "cell_type": "code",
   "execution_count": 32,
   "metadata": {
    "collapsed": false
   },
   "outputs": [
    {
     "data": {
      "text/plain": [
       "\n",
       "Call:\n",
       "lm(formula = price ~ carat + x + y + z + color + cut + clarity, \n",
       "    data = dtrain)\n",
       "\n",
       "Residuals:\n",
       "     Min       1Q   Median       3Q      Max \n",
       "-21760.6   -588.1   -181.0    375.3   9963.1 \n",
       "\n",
       "Coefficients:\n",
       "             Estimate Std. Error  t value Pr(>|t|)    \n",
       "(Intercept)   536.142     93.503    5.734 9.88e-09 ***\n",
       "carat       11418.833     56.541  201.957  < 2e-16 ***\n",
       "x           -1099.229     47.475  -23.154  < 2e-16 ***\n",
       "y             175.316     39.193    4.473 7.73e-06 ***\n",
       "z            -286.109     33.664   -8.499  < 2e-16 ***\n",
       "color.L     -1951.302     19.353 -100.825  < 2e-16 ***\n",
       "color.Q      -685.084     17.614  -38.895  < 2e-16 ***\n",
       "color.C      -154.995     16.413   -9.444  < 2e-16 ***\n",
       "color^4        38.904     15.064    2.583  0.00981 ** \n",
       "color^5      -104.500     14.222   -7.348 2.05e-13 ***\n",
       "color^6       -51.696     12.942   -3.994 6.50e-05 ***\n",
       "cut.L         699.235     22.318   31.330  < 2e-16 ***\n",
       "cut.Q        -316.281     19.568  -16.163  < 2e-16 ***\n",
       "cut.C         170.886     17.002   10.051  < 2e-16 ***\n",
       "cut^4         -12.433     13.617   -0.913  0.36123    \n",
       "clarity.L    4076.648     33.579  121.405  < 2e-16 ***\n",
       "clarity.Q   -1931.665     31.388  -61.542  < 2e-16 ***\n",
       "clarity.C     962.944     26.848   35.867  < 2e-16 ***\n",
       "clarity^4    -359.519     21.452  -16.760  < 2e-16 ***\n",
       "clarity^5     232.189     17.518   13.255  < 2e-16 ***\n",
       "clarity^6       6.771     15.244    0.444  0.65693    \n",
       "clarity^7      96.178     13.496    7.126 1.05e-12 ***\n",
       "---\n",
       "Signif. codes:  0 ‘***’ 0.001 ‘**’ 0.01 ‘*’ 0.05 ‘.’ 0.1 ‘ ’ 1\n",
       "\n",
       "Residual standard error: 1127 on 43114 degrees of freedom\n",
       "Multiple R-squared:  0.9204,\tAdjusted R-squared:  0.9203 \n",
       "F-statistic: 2.373e+04 on 21 and 43114 DF,  p-value: < 2.2e-16\n"
      ]
     },
     "metadata": {},
     "output_type": "display_data"
    }
   ],
   "source": [
    "l1 <- lm(price ~ carat + x + y + z + color + cut + clarity, data=dtrain)\n",
    "summary(l1)"
   ]
  },
  {
   "cell_type": "code",
   "execution_count": 33,
   "metadata": {
    "collapsed": false
   },
   "outputs": [
    {
     "data": {
      "text/html": [
       "<table>\n",
       "<thead><tr><th></th><th scope=col>Df</th><th scope=col>Sum Sq</th><th scope=col>Mean Sq</th><th scope=col>F value</th><th scope=col>Pr(&gt;F)</th></tr></thead>\n",
       "<tbody>\n",
       "\t<tr><th scope=row>carat</th><td>    1       </td><td>584353538954</td><td>584353538954</td><td>460279.9458 </td><td>0.000000e+00</td></tr>\n",
       "\t<tr><th scope=row>x</th><td>    1       </td><td>  3174474628</td><td>  3174474628</td><td>  2500.4503 </td><td>0.000000e+00</td></tr>\n",
       "\t<tr><th scope=row>y</th><td>    1       </td><td>   244196350</td><td>   244196350</td><td>   192.3471 </td><td>1.213092e-43</td></tr>\n",
       "\t<tr><th scope=row>z</th><td>    1       </td><td>   519944428</td><td>   519944428</td><td>   409.5466 </td><td>1.215089e-90</td></tr>\n",
       "\t<tr><th scope=row>color</th><td>    6       </td><td> 11117886487</td><td>  1852981081</td><td>  1459.5446 </td><td>0.000000e+00</td></tr>\n",
       "\t<tr><th scope=row>cut</th><td>    4       </td><td>  4651094052</td><td>  1162773513</td><td>   915.8862 </td><td>0.000000e+00</td></tr>\n",
       "\t<tr><th scope=row>clarity</th><td>    7       </td><td> 28682341585</td><td>  4097477369</td><td>  3227.4754 </td><td>0.000000e+00</td></tr>\n",
       "\t<tr><th scope=row>Residuals</th><td>43114       </td><td> 54735859569</td><td>     1269561</td><td>         NA </td><td>          NA</td></tr>\n",
       "</tbody>\n",
       "</table>\n"
      ],
      "text/latex": [
       "\\begin{tabular}{r|lllll}\n",
       "  & Df & Sum Sq & Mean Sq & F value & Pr(>F)\\\\\n",
       "\\hline\n",
       "\tcarat &     1        & 584353538954 & 584353538954 & 460279.9458  & 0.000000e+00\\\\\n",
       "\tx &     1        &   3174474628 &   3174474628 &   2500.4503  & 0.000000e+00\\\\\n",
       "\ty &     1        &    244196350 &    244196350 &    192.3471  & 1.213092e-43\\\\\n",
       "\tz &     1        &    519944428 &    519944428 &    409.5466  & 1.215089e-90\\\\\n",
       "\tcolor &     6        &  11117886487 &   1852981081 &   1459.5446  & 0.000000e+00\\\\\n",
       "\tcut &     4        &   4651094052 &   1162773513 &    915.8862  & 0.000000e+00\\\\\n",
       "\tclarity &     7        &  28682341585 &   4097477369 &   3227.4754  & 0.000000e+00\\\\\n",
       "\tResiduals & 43114        &  54735859569 &      1269561 &          NA  &           NA\\\\\n",
       "\\end{tabular}\n"
      ],
      "text/markdown": [
       "\n",
       "| <!--/--> | Df | Sum Sq | Mean Sq | F value | Pr(>F) | \n",
       "|---|---|---|---|---|---|---|---|\n",
       "| carat |     1        | 584353538954 | 584353538954 | 460279.9458  | 0.000000e+00 | \n",
       "| x |     1        |   3174474628 |   3174474628 |   2500.4503  | 0.000000e+00 | \n",
       "| y |     1        |    244196350 |    244196350 |    192.3471  | 1.213092e-43 | \n",
       "| z |     1        |    519944428 |    519944428 |    409.5466  | 1.215089e-90 | \n",
       "| color |     6        |  11117886487 |   1852981081 |   1459.5446  | 0.000000e+00 | \n",
       "| cut |     4        |   4651094052 |   1162773513 |    915.8862  | 0.000000e+00 | \n",
       "| clarity |     7        |  28682341585 |   4097477369 |   3227.4754  | 0.000000e+00 | \n",
       "| Residuals | 43114        |  54735859569 |      1269561 |          NA  |           NA | \n",
       "\n",
       "\n"
      ],
      "text/plain": [
       "          Df    Sum Sq       Mean Sq      F value     Pr(>F)      \n",
       "carat         1 584353538954 584353538954 460279.9458 0.000000e+00\n",
       "x             1   3174474628   3174474628   2500.4503 0.000000e+00\n",
       "y             1    244196350    244196350    192.3471 1.213092e-43\n",
       "z             1    519944428    519944428    409.5466 1.215089e-90\n",
       "color         6  11117886487   1852981081   1459.5446 0.000000e+00\n",
       "cut           4   4651094052   1162773513    915.8862 0.000000e+00\n",
       "clarity       7  28682341585   4097477369   3227.4754 0.000000e+00\n",
       "Residuals 43114  54735859569      1269561          NA           NA"
      ]
     },
     "metadata": {},
     "output_type": "display_data"
    }
   ],
   "source": [
    "anova(l1)"
   ]
  },
  {
   "cell_type": "markdown",
   "metadata": {},
   "source": [
    "# Logistic Regression"
   ]
  },
  {
   "cell_type": "markdown",
   "metadata": {},
   "source": [
    "The German Credit data set contains observations on 20 variables for 1000 past applicants for credit. Each applicant was rated as “good credit” (700 cases) or “bad credit” (300 cases).\n",
    "\n",
    "New applicants for credit can also be evaluated on these 20 \"predictor\" variables. We want to develop a\n",
    "credit scoring rule that can be used to determine if a new applicant is a good credit risk or a bad credit risk,\n",
    "based on values for one or more of the predictor variables.\n",
    "\n",
    "This is a case of Supervised Machine Learning - the predicted / dependent variable values are available in the data set. "
   ]
  },
  {
   "cell_type": "markdown",
   "metadata": {},
   "source": [
    "### From probability to odds to log of odds\n",
    "\n",
    "Everything starts with the concept of probability.  Assume that the probability of success of some event is .8.  Then the probability of failure is 1- .8 = .2.  The odds of success are defined as the ratio of the probability of success over the probability of failure.  In our example, the odds of success are .8/.2 = 4.  That is to say that the odds of success are  4 to 1.  If the probability of success is .5, i.e., 50-50 percent chance, then the odds of success is 1 to 1.\n",
    "\n",
    "The transformation from probability to odds is a monotonic transformation, meaning the odds increase as the probability increases or vice versa.  Probability ranges from 0 and 1.  Odds range from 0 and positive infinity."
   ]
  },
  {
   "cell_type": "markdown",
   "metadata": {},
   "source": [
    "## The Logistic Regression Model\n",
    "The probability of occurrence of the event is non-linear. We do not consider the probability directly, instead we phrase the regression problem in terms of the odds of occurrence.\n",
    "\n",
    "How is probability related to odds? If _y_ is the probability of occurrence, then $ \\displaystyle \\frac{y}{1-y} $ is the `odds ratio`. \n",
    "\n",
    "Whereas in Linear Regression \\begin{equation} y = \\beta_0 + \\beta_1 x_1 + \\beta_2 x_2 + \\cdots \\end{equation}\n",
    "\n",
    "in logistic regression the `odds ratio` follows a non-linear function. \n",
    "\n",
    "In particular, the log of the odds ratio follows a linear model, i.e.\n",
    "\\begin{equation} \\ln\\left( \\frac{y}{1-y} \\right) = \\beta_0 + \\beta_1 x_1 + \\beta_2 x_2 + \\cdots \\end{equation}\n",
    "\n",
    "In logistic regression, a coefficient $\\beta_j$ signifies that if $x_j$ is changed by 1, the log of the odds that y occurs will go up by $\\beta_j$.\n",
    "\n",
    "Solving for _y_, we get \\begin{equation} y = \\frac{e^{\\beta_0 + \\beta_1 x_1 + \\beta_2 x_2 + \\cdots }}{1+e^{\\beta_0 + \\beta_1 x_1 + \\beta_2 x_2 + \\cdots }} \\end{equation}"
   ]
  },
  {
   "cell_type": "markdown",
   "metadata": {},
   "source": [
    "When outcomes are categorical, it is much easier to think about the outcome in terms of probabilities and odds ratios\n",
    "These are the quantities that are usually reported and described in an analysis, rather than the regression coefficients\n",
    "themselves."
   ]
  },
  {
   "cell_type": "code",
   "execution_count": 1,
   "metadata": {
    "collapsed": false
   },
   "outputs": [
    {
     "name": "stderr",
     "output_type": "stream",
     "text": [
      "Loading required package: gplots\n",
      "\n",
      "Attaching package: ‘gplots’\n",
      "\n",
      "The following object is masked from ‘package:stats’:\n",
      "\n",
      "    lowess\n",
      "\n",
      "Loading required package: lattice\n"
     ]
    },
    {
     "data": {
      "text/html": [
       "<ol class=list-inline>\n",
       "\t<li>'Status.of.existing.checking.account'</li>\n",
       "\t<li>'Duration.in.month'</li>\n",
       "\t<li>'Credit.history'</li>\n",
       "\t<li>'Purpose'</li>\n",
       "\t<li>'Credit.amount'</li>\n",
       "\t<li>'Savings.account.bonds'</li>\n",
       "\t<li>'Present.employment.since.'</li>\n",
       "\t<li>'Installment.rate.in.percentage.of.disposable.income'</li>\n",
       "\t<li>'Property'</li>\n",
       "\t<li>'Age.in.Years'</li>\n",
       "\t<li>'Default_status'</li>\n",
       "</ol>\n"
      ],
      "text/latex": [
       "\\begin{enumerate*}\n",
       "\\item 'Status.of.existing.checking.account'\n",
       "\\item 'Duration.in.month'\n",
       "\\item 'Credit.history'\n",
       "\\item 'Purpose'\n",
       "\\item 'Credit.amount'\n",
       "\\item 'Savings.account.bonds'\n",
       "\\item 'Present.employment.since.'\n",
       "\\item 'Installment.rate.in.percentage.of.disposable.income'\n",
       "\\item 'Property'\n",
       "\\item 'Age.in.Years'\n",
       "\\item 'Default\\_status'\n",
       "\\end{enumerate*}\n"
      ],
      "text/markdown": [
       "1. 'Status.of.existing.checking.account'\n",
       "2. 'Duration.in.month'\n",
       "3. 'Credit.history'\n",
       "4. 'Purpose'\n",
       "5. 'Credit.amount'\n",
       "6. 'Savings.account.bonds'\n",
       "7. 'Present.employment.since.'\n",
       "8. 'Installment.rate.in.percentage.of.disposable.income'\n",
       "9. 'Property'\n",
       "10. 'Age.in.Years'\n",
       "11. 'Default_status'\n",
       "\n",
       "\n"
      ],
      "text/plain": [
       " [1] \"Status.of.existing.checking.account\"                \n",
       " [2] \"Duration.in.month\"                                  \n",
       " [3] \"Credit.history\"                                     \n",
       " [4] \"Purpose\"                                            \n",
       " [5] \"Credit.amount\"                                      \n",
       " [6] \"Savings.account.bonds\"                              \n",
       " [7] \"Present.employment.since.\"                          \n",
       " [8] \"Installment.rate.in.percentage.of.disposable.income\"\n",
       " [9] \"Property\"                                           \n",
       "[10] \"Age.in.Years\"                                       \n",
       "[11] \"Default_status\"                                     "
      ]
     },
     "metadata": {},
     "output_type": "display_data"
    }
   ],
   "source": [
    "library(ROCR)\n",
    "library(ggplot2)\n",
    "library(DAAG)\n",
    "options(repr.plot.width=5, repr.plot.height=3)\n",
    "\n",
    "r <- read.csv(\"german.csv\")\n",
    "r2 <- r[,c(1:8,12:13,21)]\n",
    "colnames(r2)\n",
    "r2$Default_status <- ifelse(r2$Default_status==0,'Good','Bad')\n",
    "r2$Default_status <-as.factor(r2$Default_status)"
   ]
  },
  {
   "cell_type": "markdown",
   "metadata": {},
   "source": [
    "We define some functions that we will use later in this workshop session"
   ]
  },
  {
   "cell_type": "code",
   "execution_count": 2,
   "metadata": {
    "collapsed": false
   },
   "outputs": [],
   "source": [
    "# Function 1: Create function to calculate percent distribution for factors\n",
    "pct <- function(x){\n",
    "    tbl <- table(x)\n",
    "    tbl_pct <- cbind(tbl,round(prop.table(tbl)*100,2))\n",
    "    colnames(tbl_pct) <- c('Count','Percentage')\n",
    "    tbl_pct\n",
    "}\n",
    "# pct(cdata$good_bad_21)\n",
    "\n",
    "# Function 2: function to calculate IV, WOE and Efficiency\n",
    "gbpct <- function(x, y){\n",
    "    mt <- as.matrix(table(as.factor(x), y)) \n",
    "    # x -> independent variable(vector), y->dependent variable(vector)\n",
    "    Total <- mt[,1] + mt[,2]\n",
    "    # Total observations\n",
    "    Total_Pct <- round(Total/sum(mt)*100, 2)\n",
    "    # Total PCT\n",
    "    Bad_pct <- round((mt[,1]/sum(mt[,1]))*100, 2)\n",
    "    # PCT of BAd or event or response\n",
    "    Good_pct <- round((mt[,2]/sum(mt[,2]))*100, 2)\n",
    "    # PCT of Good or non-event\n",
    "    Bad_Rate <- round((mt[,1]/(mt[,1]+mt[,2]))*100, 2) # Bad rate or response rate\n",
    "    grp_score <- round((Good_pct/(Good_pct + Bad_pct))*10, 2) # score for each group\n",
    "    WOE <- round(log(Good_pct/Bad_pct)*10, 2)\n",
    "    # Weight of Evidence for each group\n",
    "    g_b_comp <- ifelse(mt[,1] == mt[,2], 0, 1)\n",
    "    IV <- ifelse(g_b_comp == 0, 0, (Good_pct - Bad_pct)*(WOE/10)) # Information value for each group\n",
    "    Efficiency <- abs(Good_pct - Bad_pct)/2\n",
    "    # Efficiency for each group\n",
    "    otb<-as.data.frame(cbind(mt, Good_pct, Bad_pct, Total,\n",
    "    Total_Pct, Bad_Rate, grp_score,\n",
    "    WOE, IV, Efficiency ))\n",
    "    otb$Names <- rownames(otb)\n",
    "    rownames(otb) <- NULL\n",
    "    otb[,c(12,2,1,3:11)] # return IV table\n",
    "}\n",
    "\n",
    "# Function 3: Normalize using Range\n",
    "normalize <- function(x) {\n",
    "    return((x - min(x)) / (max(x) - min(x)))\n",
    "}"
   ]
  },
  {
   "cell_type": "code",
   "execution_count": 3,
   "metadata": {
    "collapsed": false
   },
   "outputs": [
    {
     "data": {
      "text/html": [
       "<table>\n",
       "<thead><tr><th></th><th scope=col>Count</th><th scope=col>Percentage</th></tr></thead>\n",
       "<tbody>\n",
       "\t<tr><th scope=row>Bad</th><td>300</td><td>30 </td></tr>\n",
       "\t<tr><th scope=row>Good</th><td>700</td><td>70 </td></tr>\n",
       "</tbody>\n",
       "</table>\n"
      ],
      "text/latex": [
       "\\begin{tabular}{r|ll}\n",
       "  & Count & Percentage\\\\\n",
       "\\hline\n",
       "\tBad & 300 & 30 \\\\\n",
       "\tGood & 700 & 70 \\\\\n",
       "\\end{tabular}\n"
      ],
      "text/markdown": [
       "\n",
       "| <!--/--> | Count | Percentage | \n",
       "|---|---|\n",
       "| Bad | 300 | 30  | \n",
       "| Good | 700 | 70  | \n",
       "\n",
       "\n"
      ],
      "text/plain": [
       "     Count Percentage\n",
       "Bad  300   30        \n",
       "Good 700   70        "
      ]
     },
     "metadata": {},
     "output_type": "display_data"
    }
   ],
   "source": [
    "pct(r2$Default_status)"
   ]
  },
  {
   "cell_type": "markdown",
   "metadata": {},
   "source": [
    "---\n",
    "### Weight of Evidence(WOE)\n",
    "WoE shows predictive power of an independent variable in relation to dependent variable. It\n",
    "evolved with credit scoring to magnify separation power between a good customer and a bad customer , hence it is\n",
    "one of the measures of separation between two classes(good/bad, yes/no, 0/1, A/B, response/no-response). It is defined\n",
    "as: \\begin{equation} \\text{WoE} = \\ln\\left( \\frac{\\text{Proportion of non events (Good)}}{\\text{Proportion of events (Bad)}} \\right) \\end{equation}\n",
    "\n",
    "It is computed from the basic odds ratio:\n",
    "(Proportion of Good Credit Outcomes) / (Proportion of Bad Credit Outcomes)"
   ]
  },
  {
   "cell_type": "markdown",
   "metadata": {},
   "source": [
    "### Checking Account Status for WoE"
   ]
  },
  {
   "cell_type": "code",
   "execution_count": 4,
   "metadata": {
    "collapsed": false
   },
   "outputs": [
    {
     "name": "stderr",
     "output_type": "stream",
     "text": [
      "Warning message in par(mfrow = c(1, 2), new = TRUE):\n",
      "“calling par(new=TRUE) with no plot”"
     ]
    },
    {
     "data": {
      "image/png": "[encoded data removed]",
      "text/plain": [
       "Plot with title “Score:Checking Account Status”"
      ]
     },
     "metadata": {},
     "output_type": "display_data"
    }
   ],
   "source": [
    "A1 <- gbpct(r2$Status.of.existing.checking.account,r2$Default_status)\n",
    "\n",
    "options(repr.plot.width=9, repr.plot.height=5)\n",
    "op1<-par(mfrow=c(1,2), new=TRUE)\n",
    "\n",
    "plot(r2$Status.of.existing.checking.account, r2$Default_status,\n",
    "ylab=\"Good-Bad\", xlab=\"Status.of.existing.checking.account\",\n",
    "main=\"Checking Account Status ~ Good-Bad \")\n",
    "\n",
    "barplot(A1$WOE, col=\"brown\", names.arg=c(A1$Levels),\n",
    "main=\"Score:Checking Account Status\",\n",
    "xlab=\"Category\",\n",
    "ylab=\"WOE\",\n",
    ")"
   ]
  },
  {
   "cell_type": "markdown",
   "metadata": {},
   "source": [
    "WoE for Account Status 'A11' (Status.of.exisiting.checking.account) calculated below"
   ]
  },
  {
   "cell_type": "code",
   "execution_count": 5,
   "metadata": {
    "collapsed": false
   },
   "outputs": [
    {
     "data": {
      "text/html": [
       "-8.18"
      ],
      "text/latex": [
       "-8.18"
      ],
      "text/markdown": [
       "-8.18"
      ],
      "text/plain": [
       "[1] -8.18"
      ]
     },
     "metadata": {},
     "output_type": "display_data"
    }
   ],
   "source": [
    "goodPc <- dim(r2[r2$Default_status=='Good' & r2$Status.of.existing.checking.account=='A11',])[1]/dim(r2[r2$Default_status=='Good',])[1]\n",
    "badPc <- dim(r2[r2$Default_status=='Bad' & r2$Status.of.existing.checking.account=='A11',])[1]/dim(r2[r2$Default_status=='Bad',])[1]\n",
    "#goodPc; badPc\n",
    "WoE <- log(goodPc/badPc)*10\n",
    "round(WoE,2)"
   ]
  },
  {
   "cell_type": "markdown",
   "metadata": {},
   "source": [
    "---\n",
    "### Information Value(IV)\n",
    "\n",
    "IV helps to select variables by using their order of importance w.r.to information value after grouping.\n",
    "\\begin{equation} \\text{IV} = \\sum \\left( \\text{% Non-events}-\\text{% Events} \\right)* WoE\\end{equation}"
   ]
  },
  {
   "cell_type": "markdown",
   "metadata": {},
   "source": [
    "IV (Information Value) for Account Status 'A11' calculated below"
   ]
  },
  {
   "cell_type": "code",
   "execution_count": 6,
   "metadata": {
    "collapsed": false
   },
   "outputs": [
    {
     "data": {
      "text/html": [
       "20.57"
      ],
      "text/latex": [
       "20.57"
      ],
      "text/markdown": [
       "20.57"
      ],
      "text/plain": [
       "[1] 20.57"
      ]
     },
     "metadata": {},
     "output_type": "display_data"
    }
   ],
   "source": [
    "pcGood <- 100*goodPc\n",
    "pcBad <- 100*badPc\n",
    "IV <- (pcGood-pcBad)*WoE/10\n",
    "round(IV,2)"
   ]
  },
  {
   "cell_type": "markdown",
   "metadata": {},
   "source": [
    "---\n",
    "### Efficiency\n",
    "\\begin{equation}  \\text{Efficiency} = \\text{Abs} \\left( \\text{% Non-events}- \\text{% Events} \\right)/2       \\end{equation} \n"
   ]
  },
  {
   "cell_type": "markdown",
   "metadata": {},
   "source": [
    "We may split the data (given population) into random samples with 50-50, 60-40 or 70-30 ratios for Training (Development\n",
    "Sample on which model will be developed or trained) and Test (validation/holdout sample on which model will be tested)\n",
    "based on population size. In this workshop session we will split the sample into 70-30. \n",
    "\n",
    "Stratified random sampling is a method of sampling that involves the division of a population into smaller groups known as strata. In stratified random sampling, the strata are formed based on members’ shared attributes or characteristics. \n",
    "\n",
    "In our case we will use good_bad as strata and partition data into 70%-30% as train and test sets. You may also\n",
    "split them into 60-40 or 50-50 ratio."
   ]
  },
  {
   "cell_type": "code",
   "execution_count": 7,
   "metadata": {
    "collapsed": false
   },
   "outputs": [
    {
     "data": {
      "text/html": [
       "<table>\n",
       "<thead><tr><th scope=col>Names</th><th scope=col>Good</th><th scope=col>Bad</th><th scope=col>Good_pct</th><th scope=col>Bad_pct</th><th scope=col>Total</th><th scope=col>Total_Pct</th><th scope=col>Bad_Rate</th><th scope=col>grp_score</th><th scope=col>WOE</th><th scope=col>IV</th><th scope=col>Efficiency</th></tr></thead>\n",
       "<tbody>\n",
       "\t<tr><td>A11     </td><td>139     </td><td>135     </td><td>19.86   </td><td>45.00   </td><td>274     </td><td>27.4    </td><td>49.27   </td><td>3.06    </td><td>-8.18   </td><td>20.56452</td><td>12.570  </td></tr>\n",
       "\t<tr><td>A12     </td><td>164     </td><td>105     </td><td>23.43   </td><td>35.00   </td><td>269     </td><td>26.9    </td><td>39.03   </td><td>4.01    </td><td>-4.01   </td><td> 4.63957</td><td> 5.785  </td></tr>\n",
       "\t<tr><td>A13     </td><td> 49     </td><td> 14     </td><td> 7.00   </td><td> 4.67   </td><td> 63     </td><td> 6.3    </td><td>22.22   </td><td>6.00    </td><td> 4.05   </td><td> 0.94365</td><td> 1.165  </td></tr>\n",
       "\t<tr><td>A14     </td><td>348     </td><td> 46     </td><td>49.71   </td><td>15.33   </td><td>394     </td><td>39.4    </td><td>11.68   </td><td>7.64    </td><td>11.76   </td><td>40.43088</td><td>17.190  </td></tr>\n",
       "</tbody>\n",
       "</table>\n"
      ],
      "text/latex": [
       "\\begin{tabular}{r|llllllllllll}\n",
       " Names & Good & Bad & Good\\_pct & Bad\\_pct & Total & Total\\_Pct & Bad\\_Rate & grp\\_score & WOE & IV & Efficiency\\\\\n",
       "\\hline\n",
       "\t A11      & 139      & 135      & 19.86    & 45.00    & 274      & 27.4     & 49.27    & 3.06     & -8.18    & 20.56452 & 12.570  \\\\\n",
       "\t A12      & 164      & 105      & 23.43    & 35.00    & 269      & 26.9     & 39.03    & 4.01     & -4.01    &  4.63957 &  5.785  \\\\\n",
       "\t A13      &  49      &  14      &  7.00    &  4.67    &  63      &  6.3     & 22.22    & 6.00     &  4.05    &  0.94365 &  1.165  \\\\\n",
       "\t A14      & 348      &  46      & 49.71    & 15.33    & 394      & 39.4     & 11.68    & 7.64     & 11.76    & 40.43088 & 17.190  \\\\\n",
       "\\end{tabular}\n"
      ],
      "text/markdown": [
       "\n",
       "Names | Good | Bad | Good_pct | Bad_pct | Total | Total_Pct | Bad_Rate | grp_score | WOE | IV | Efficiency | \n",
       "|---|---|---|---|\n",
       "| A11      | 139      | 135      | 19.86    | 45.00    | 274      | 27.4     | 49.27    | 3.06     | -8.18    | 20.56452 | 12.570   | \n",
       "| A12      | 164      | 105      | 23.43    | 35.00    | 269      | 26.9     | 39.03    | 4.01     | -4.01    |  4.63957 |  5.785   | \n",
       "| A13      |  49      |  14      |  7.00    |  4.67    |  63      |  6.3     | 22.22    | 6.00     |  4.05    |  0.94365 |  1.165   | \n",
       "| A14      | 348      |  46      | 49.71    | 15.33    | 394      | 39.4     | 11.68    | 7.64     | 11.76    | 40.43088 | 17.190   | \n",
       "\n",
       "\n"
      ],
      "text/plain": [
       "  Names Good Bad Good_pct Bad_pct Total Total_Pct Bad_Rate grp_score WOE  \n",
       "1 A11   139  135 19.86    45.00   274   27.4      49.27    3.06      -8.18\n",
       "2 A12   164  105 23.43    35.00   269   26.9      39.03    4.01      -4.01\n",
       "3 A13    49   14  7.00     4.67    63    6.3      22.22    6.00       4.05\n",
       "4 A14   348   46 49.71    15.33   394   39.4      11.68    7.64      11.76\n",
       "  IV       Efficiency\n",
       "1 20.56452 12.570    \n",
       "2  4.63957  5.785    \n",
       "3  0.94365  1.165    \n",
       "4 40.43088 17.190    "
      ]
     },
     "metadata": {},
     "output_type": "display_data"
    }
   ],
   "source": [
    "A1"
   ]
  },
  {
   "cell_type": "markdown",
   "metadata": {},
   "source": [
    "For Account Status  \n",
    "* Information Value is  $\\textbf{66.58}$\n",
    "* Efficiency is          $\\textbf{36.71}$"
   ]
  },
  {
   "cell_type": "markdown",
   "metadata": {},
   "source": [
    "---\n",
    "### Information Value(IV)\n",
    "\n",
    "IV helps to select variables by using their order of importance w.r.to information value after grouping.\n",
    "\\begin{equation} \\text{IV} = \\sum \\left( \\text{% Non-events}-\\text{% Events} \\right) * \\text{WoE} \\end{equation}"
   ]
  },
  {
   "cell_type": "markdown",
   "metadata": {},
   "source": [
    "---\n",
    "### Efficiency\n",
    "\\begin{equation}  \\text{Efficiency} = \\text{Abs} \\left( \\text{% Non-events}- \\text{% Events} \\right)/2       \\end{equation} \n"
   ]
  },
  {
   "cell_type": "markdown",
   "metadata": {},
   "source": [
    "We may split the data (given population) into random samples with 50-50, 60-40 or 70-30 ratios for Training (Development\n",
    "Sample on which model will be developed or trained) and Test (validation/holdout sample on which model will be tested)\n",
    "based on population size. In this workshop session we will split the sample into 70-30. \n",
    "\n",
    "Stratified random sampling is a method of sampling that involves the division of a population into smaller groups known as strata. In stratified random sampling, the strata are formed based on members’ shared attributes or characteristics. \n",
    "\n",
    "In our case we will use good_bad as strata and partition data into 70%-30% as train and test sets. You may also\n",
    "split them into 60-40 or 50-50 ratio."
   ]
  },
  {
   "cell_type": "code",
   "execution_count": 8,
   "metadata": {
    "collapsed": false
   },
   "outputs": [
    {
     "data": {
      "text/html": [
       "<table>\n",
       "<thead><tr><th></th><th scope=col>Count</th><th scope=col>Percentage</th></tr></thead>\n",
       "<tbody>\n",
       "\t<tr><th scope=row>Bad</th><td>206  </td><td>29.43</td></tr>\n",
       "\t<tr><th scope=row>Good</th><td>494  </td><td>70.57</td></tr>\n",
       "</tbody>\n",
       "</table>\n"
      ],
      "text/latex": [
       "\\begin{tabular}{r|ll}\n",
       "  & Count & Percentage\\\\\n",
       "\\hline\n",
       "\tBad & 206   & 29.43\\\\\n",
       "\tGood & 494   & 70.57\\\\\n",
       "\\end{tabular}\n"
      ],
      "text/markdown": [
       "\n",
       "| <!--/--> | Count | Percentage | \n",
       "|---|---|\n",
       "| Bad | 206   | 29.43 | \n",
       "| Good | 494   | 70.57 | \n",
       "\n",
       "\n"
      ],
      "text/plain": [
       "     Count Percentage\n",
       "Bad  206   29.43     \n",
       "Good 494   70.57     "
      ]
     },
     "metadata": {},
     "output_type": "display_data"
    }
   ],
   "source": [
    "#div_part_1 <- createDataPartition(y = r2$Default_status, p = 0.7, list = F)\n",
    "set.seed(6)\n",
    "div_part_1 <- sample(1:dim(r2)[1],0.7*dim(r2)[1],replace=F)\n",
    "\n",
    "# Training Sample\n",
    "train_1 <- r2[div_part_1,] # 70% here\n",
    "pct(train_1$Default_status)"
   ]
  },
  {
   "cell_type": "code",
   "execution_count": 9,
   "metadata": {
    "collapsed": false
   },
   "outputs": [
    {
     "data": {
      "text/html": [
       "<table>\n",
       "<thead><tr><th></th><th scope=col>Count</th><th scope=col>Percentage</th></tr></thead>\n",
       "<tbody>\n",
       "\t<tr><th scope=row>Bad</th><td> 94  </td><td>31.33</td></tr>\n",
       "\t<tr><th scope=row>Good</th><td>206  </td><td>68.67</td></tr>\n",
       "</tbody>\n",
       "</table>\n"
      ],
      "text/latex": [
       "\\begin{tabular}{r|ll}\n",
       "  & Count & Percentage\\\\\n",
       "\\hline\n",
       "\tBad &  94   & 31.33\\\\\n",
       "\tGood & 206   & 68.67\\\\\n",
       "\\end{tabular}\n"
      ],
      "text/markdown": [
       "\n",
       "| <!--/--> | Count | Percentage | \n",
       "|---|---|\n",
       "| Bad |  94   | 31.33 | \n",
       "| Good | 206   | 68.67 | \n",
       "\n",
       "\n"
      ],
      "text/plain": [
       "     Count Percentage\n",
       "Bad   94   31.33     \n",
       "Good 206   68.67     "
      ]
     },
     "metadata": {},
     "output_type": "display_data"
    }
   ],
   "source": [
    "# Test Sample\n",
    "test_1 <- r2[-div_part_1,] # rest of the 30% data goes here\n",
    "pct(test_1$Default_status)"
   ]
  },
  {
   "cell_type": "code",
   "execution_count": 10,
   "metadata": {
    "collapsed": false
   },
   "outputs": [
    {
     "name": "stdout",
     "output_type": "stream",
     "text": [
      "Start:  AIC=698.46\n",
      "Default_status ~ Status.of.existing.checking.account + Duration.in.month + \n",
      "    Credit.history + Purpose + Credit.amount + Savings.account.bonds + \n",
      "    Present.employment.since. + Installment.rate.in.percentage.of.disposable.income + \n",
      "    Property + Age.in.Years\n",
      "\n",
      "                                                      Df Deviance    AIC\n",
      "- Property                                             3   639.59 697.59\n",
      "- Present.employment.since.                            4   641.94 697.94\n",
      "- Credit.amount                                        1   636.38 698.38\n",
      "<none>                                                     634.46 698.46\n",
      "- Age.in.Years                                         1   640.45 702.45\n",
      "- Purpose                                              9   656.94 702.94\n",
      "- Savings.account.bonds                                4   648.63 704.63\n",
      "- Duration.in.month                                    1   643.49 705.49\n",
      "- Installment.rate.in.percentage.of.disposable.income  1   644.14 706.14\n",
      "- Credit.history                                       4   653.09 709.09\n",
      "- Status.of.existing.checking.account                  3   688.71 746.71\n",
      "\n",
      "Step:  AIC=697.59\n",
      "Default_status ~ Status.of.existing.checking.account + Duration.in.month + \n",
      "    Credit.history + Purpose + Credit.amount + Savings.account.bonds + \n",
      "    Present.employment.since. + Installment.rate.in.percentage.of.disposable.income + \n",
      "    Age.in.Years\n",
      "\n",
      "                                                      Df Deviance    AIC\n",
      "- Present.employment.since.                            4   647.50 697.50\n",
      "<none>                                                     639.59 697.59\n",
      "- Credit.amount                                        1   642.70 698.70\n",
      "- Age.in.Years                                         1   644.33 700.33\n",
      "- Purpose                                              9   663.54 703.54\n",
      "- Savings.account.bonds                                4   654.04 704.04\n",
      "- Duration.in.month                                    1   649.93 705.93\n",
      "- Installment.rate.in.percentage.of.disposable.income  1   651.19 707.19\n",
      "- Credit.history                                       4   660.00 710.00\n",
      "- Status.of.existing.checking.account                  3   695.85 747.85\n",
      "\n",
      "Step:  AIC=697.5\n",
      "Default_status ~ Status.of.existing.checking.account + Duration.in.month + \n",
      "    Credit.history + Purpose + Credit.amount + Savings.account.bonds + \n",
      "    Installment.rate.in.percentage.of.disposable.income + Age.in.Years\n",
      "\n",
      "                                                      Df Deviance    AIC\n",
      "<none>                                                     647.50 697.50\n",
      "- Credit.amount                                        1   650.63 698.63\n",
      "- Age.in.Years                                         1   654.58 702.58\n",
      "- Duration.in.month                                    1   656.81 704.81\n",
      "- Purpose                                              9   673.07 705.07\n",
      "- Savings.account.bonds                                4   663.54 705.54\n",
      "- Installment.rate.in.percentage.of.disposable.income  1   659.02 707.02\n",
      "- Credit.history                                       4   670.25 712.25\n",
      "- Status.of.existing.checking.account                  3   705.14 749.14\n"
     ]
    }
   ],
   "source": [
    "# Model: Stepwise Logistic Regression Model\n",
    "m1 <- glm(Default_status ~.,data=train_1,family=binomial())\n",
    "m1 <- step(m1)"
   ]
  },
  {
   "cell_type": "code",
   "execution_count": 11,
   "metadata": {
    "collapsed": false
   },
   "outputs": [
    {
     "data": {
      "text/plain": [
       "\n",
       "Call:\n",
       "glm(formula = Default_status ~ Status.of.existing.checking.account + \n",
       "    Duration.in.month + Credit.history + Purpose + Credit.amount + \n",
       "    Savings.account.bonds + Installment.rate.in.percentage.of.disposable.income + \n",
       "    Age.in.Years, family = binomial(), data = train_1)\n",
       "\n",
       "Deviance Residuals: \n",
       "    Min       1Q   Median       3Q      Max  \n",
       "-2.7340  -0.7672   0.4147   0.7359   2.1949  \n",
       "\n",
       "Coefficients:\n",
       "                                                      Estimate Std. Error\n",
       "(Intercept)                                         -7.179e-01  6.896e-01\n",
       "Status.of.existing.checking.accountA12               5.014e-01  2.454e-01\n",
       "Status.of.existing.checking.accountA13               8.513e-01  4.102e-01\n",
       "Status.of.existing.checking.accountA14               1.881e+00  2.705e-01\n",
       "Duration.in.month                                   -3.201e-02  1.059e-02\n",
       "Credit.historyA31                                    1.312e-01  6.323e-01\n",
       "Credit.historyA32                                    1.011e+00  4.792e-01\n",
       "Credit.historyA33                                    1.124e+00  5.460e-01\n",
       "Credit.historyA34                                    1.795e+00  5.083e-01\n",
       "PurposeA41                                           1.533e+00  4.398e-01\n",
       "PurposeA410                                          9.836e-01  9.330e-01\n",
       "PurposeA42                                           6.396e-01  3.008e-01\n",
       "PurposeA43                                           8.800e-01  2.839e-01\n",
       "PurposeA44                                          -3.650e-01  8.539e-01\n",
       "PurposeA45                                           1.035e+00  6.775e-01\n",
       "PurposeA46                                          -2.807e-01  4.569e-01\n",
       "PurposeA48                                           1.915e+00  1.192e+00\n",
       "PurposeA49                                           6.538e-01  3.904e-01\n",
       "Credit.amount                                       -9.001e-05  5.076e-05\n",
       "Savings.account.bondsA62                             4.000e-01  3.291e-01\n",
       "Savings.account.bondsA63                             2.853e-01  4.621e-01\n",
       "Savings.account.bondsA64                             1.952e+00  8.040e-01\n",
       "Savings.account.bondsA65                             8.475e-01  2.961e-01\n",
       "Installment.rate.in.percentage.of.disposable.income -3.291e-01  9.882e-02\n",
       "Age.in.Years                                         2.422e-02  9.306e-03\n",
       "                                                    z value Pr(>|z|)    \n",
       "(Intercept)                                          -1.041 0.297824    \n",
       "Status.of.existing.checking.accountA12                2.043 0.041036 *  \n",
       "Status.of.existing.checking.accountA13                2.075 0.037941 *  \n",
       "Status.of.existing.checking.accountA14                6.955 3.53e-12 ***\n",
       "Duration.in.month                                    -3.024 0.002494 ** \n",
       "Credit.historyA31                                     0.207 0.835643    \n",
       "Credit.historyA32                                     2.109 0.034922 *  \n",
       "Credit.historyA33                                     2.058 0.039554 *  \n",
       "Credit.historyA34                                     3.532 0.000412 ***\n",
       "PurposeA41                                            3.486 0.000490 ***\n",
       "PurposeA410                                           1.054 0.291758    \n",
       "PurposeA42                                            2.126 0.033482 *  \n",
       "PurposeA43                                            3.099 0.001940 ** \n",
       "PurposeA44                                           -0.427 0.669073    \n",
       "PurposeA45                                            1.528 0.126528    \n",
       "PurposeA46                                           -0.614 0.539022    \n",
       "PurposeA48                                            1.606 0.108187    \n",
       "PurposeA49                                            1.675 0.093961 .  \n",
       "Credit.amount                                        -1.773 0.076164 .  \n",
       "Savings.account.bondsA62                              1.215 0.224193    \n",
       "Savings.account.bondsA63                              0.617 0.537009    \n",
       "Savings.account.bondsA64                              2.427 0.015212 *  \n",
       "Savings.account.bondsA65                              2.862 0.004206 ** \n",
       "Installment.rate.in.percentage.of.disposable.income  -3.331 0.000866 ***\n",
       "Age.in.Years                                          2.602 0.009262 ** \n",
       "---\n",
       "Signif. codes:  0 ‘***’ 0.001 ‘**’ 0.01 ‘*’ 0.05 ‘.’ 0.1 ‘ ’ 1\n",
       "\n",
       "(Dispersion parameter for binomial family taken to be 1)\n",
       "\n",
       "    Null deviance: 848.32  on 699  degrees of freedom\n",
       "Residual deviance: 647.50  on 675  degrees of freedom\n",
       "AIC: 697.5\n",
       "\n",
       "Number of Fisher Scoring iterations: 5\n"
      ]
     },
     "metadata": {},
     "output_type": "display_data"
    }
   ],
   "source": [
    "summary(m1)"
   ]
  },
  {
   "cell_type": "code",
   "execution_count": 12,
   "metadata": {
    "collapsed": false
   },
   "outputs": [
    {
     "data": {
      "text/html": [
       "<ol class=list-inline>\n",
       "\t<li>'Status.of.existing.checking.accountA14'</li>\n",
       "\t<li>'Duration.in.month'</li>\n",
       "\t<li>'Credit.historyA34'</li>\n",
       "\t<li>'PurposeA41'</li>\n",
       "\t<li>'PurposeA43'</li>\n",
       "\t<li>'Savings.account.bondsA65'</li>\n",
       "\t<li>'Installment.rate.in.percentage.of.disposable.income'</li>\n",
       "\t<li>'Age.in.Years'</li>\n",
       "</ol>\n"
      ],
      "text/latex": [
       "\\begin{enumerate*}\n",
       "\\item 'Status.of.existing.checking.accountA14'\n",
       "\\item 'Duration.in.month'\n",
       "\\item 'Credit.historyA34'\n",
       "\\item 'PurposeA41'\n",
       "\\item 'PurposeA43'\n",
       "\\item 'Savings.account.bondsA65'\n",
       "\\item 'Installment.rate.in.percentage.of.disposable.income'\n",
       "\\item 'Age.in.Years'\n",
       "\\end{enumerate*}\n"
      ],
      "text/markdown": [
       "1. 'Status.of.existing.checking.accountA14'\n",
       "2. 'Duration.in.month'\n",
       "3. 'Credit.historyA34'\n",
       "4. 'PurposeA41'\n",
       "5. 'PurposeA43'\n",
       "6. 'Savings.account.bondsA65'\n",
       "7. 'Installment.rate.in.percentage.of.disposable.income'\n",
       "8. 'Age.in.Years'\n",
       "\n",
       "\n"
      ],
      "text/plain": [
       "[1] \"Status.of.existing.checking.accountA14\"             \n",
       "[2] \"Duration.in.month\"                                  \n",
       "[3] \"Credit.historyA34\"                                  \n",
       "[4] \"PurposeA41\"                                         \n",
       "[5] \"PurposeA43\"                                         \n",
       "[6] \"Savings.account.bondsA65\"                           \n",
       "[7] \"Installment.rate.in.percentage.of.disposable.income\"\n",
       "[8] \"Age.in.Years\"                                       "
      ]
     },
     "metadata": {},
     "output_type": "display_data"
    },
    {
     "data": {
      "text/html": [
       "<table>\n",
       "<thead><tr><th></th><th scope=col>Estimate</th><th scope=col>Std. Error</th><th scope=col>z value</th><th scope=col>Pr(&gt;|z|)</th></tr></thead>\n",
       "<tbody>\n",
       "\t<tr><th scope=row>Status.of.existing.checking.accountA14</th><td> 1.88146977 </td><td>0.270531680 </td><td> 6.954711   </td><td>3.532844e-12</td></tr>\n",
       "\t<tr><th scope=row>Duration.in.month</th><td>-0.03201098 </td><td>0.010585438 </td><td>-3.024058   </td><td>2.494088e-03</td></tr>\n",
       "\t<tr><th scope=row>Credit.historyA34</th><td> 1.79543783 </td><td>0.508311725 </td><td> 3.532159   </td><td>4.121815e-04</td></tr>\n",
       "\t<tr><th scope=row>PurposeA41</th><td> 1.53297644 </td><td>0.439764119 </td><td> 3.485906   </td><td>4.904731e-04</td></tr>\n",
       "\t<tr><th scope=row>PurposeA43</th><td> 0.88000875 </td><td>0.283934893 </td><td> 3.099333   </td><td>1.939570e-03</td></tr>\n",
       "\t<tr><th scope=row>Savings.account.bondsA65</th><td> 0.84745631 </td><td>0.296073488 </td><td> 2.862317   </td><td>4.205554e-03</td></tr>\n",
       "\t<tr><th scope=row>Installment.rate.in.percentage.of.disposable.income</th><td>-0.32914661 </td><td>0.098818111 </td><td>-3.330833   </td><td>8.658658e-04</td></tr>\n",
       "\t<tr><th scope=row>Age.in.Years</th><td> 0.02421592 </td><td>0.009305789 </td><td> 2.602243   </td><td>9.261616e-03</td></tr>\n",
       "</tbody>\n",
       "</table>\n"
      ],
      "text/latex": [
       "\\begin{tabular}{r|llll}\n",
       "  & Estimate & Std. Error & z value & Pr(>\\textbar{}z\\textbar{})\\\\\n",
       "\\hline\n",
       "\tStatus.of.existing.checking.accountA14 &  1.88146977  & 0.270531680  &  6.954711    & 3.532844e-12\\\\\n",
       "\tDuration.in.month & -0.03201098  & 0.010585438  & -3.024058    & 2.494088e-03\\\\\n",
       "\tCredit.historyA34 &  1.79543783  & 0.508311725  &  3.532159    & 4.121815e-04\\\\\n",
       "\tPurposeA41 &  1.53297644  & 0.439764119  &  3.485906    & 4.904731e-04\\\\\n",
       "\tPurposeA43 &  0.88000875  & 0.283934893  &  3.099333    & 1.939570e-03\\\\\n",
       "\tSavings.account.bondsA65 &  0.84745631  & 0.296073488  &  2.862317    & 4.205554e-03\\\\\n",
       "\tInstallment.rate.in.percentage.of.disposable.income & -0.32914661  & 0.098818111  & -3.330833    & 8.658658e-04\\\\\n",
       "\tAge.in.Years &  0.02421592  & 0.009305789  &  2.602243    & 9.261616e-03\\\\\n",
       "\\end{tabular}\n"
      ],
      "text/markdown": [
       "\n",
       "| <!--/--> | Estimate | Std. Error | z value | Pr(>|z|) | \n",
       "|---|---|---|---|---|---|---|---|\n",
       "| Status.of.existing.checking.accountA14 |  1.88146977  | 0.270531680  |  6.954711    | 3.532844e-12 | \n",
       "| Duration.in.month | -0.03201098  | 0.010585438  | -3.024058    | 2.494088e-03 | \n",
       "| Credit.historyA34 |  1.79543783  | 0.508311725  |  3.532159    | 4.121815e-04 | \n",
       "| PurposeA41 |  1.53297644  | 0.439764119  |  3.485906    | 4.904731e-04 | \n",
       "| PurposeA43 |  0.88000875  | 0.283934893  |  3.099333    | 1.939570e-03 | \n",
       "| Savings.account.bondsA65 |  0.84745631  | 0.296073488  |  2.862317    | 4.205554e-03 | \n",
       "| Installment.rate.in.percentage.of.disposable.income | -0.32914661  | 0.098818111  | -3.330833    | 8.658658e-04 | \n",
       "| Age.in.Years |  0.02421592  | 0.009305789  |  2.602243    | 9.261616e-03 | \n",
       "\n",
       "\n"
      ],
      "text/plain": [
       "                                                    Estimate    Std. Error \n",
       "Status.of.existing.checking.accountA14               1.88146977 0.270531680\n",
       "Duration.in.month                                   -0.03201098 0.010585438\n",
       "Credit.historyA34                                    1.79543783 0.508311725\n",
       "PurposeA41                                           1.53297644 0.439764119\n",
       "PurposeA43                                           0.88000875 0.283934893\n",
       "Savings.account.bondsA65                             0.84745631 0.296073488\n",
       "Installment.rate.in.percentage.of.disposable.income -0.32914661 0.098818111\n",
       "Age.in.Years                                         0.02421592 0.009305789\n",
       "                                                    z value   Pr(>|z|)    \n",
       "Status.of.existing.checking.accountA14               6.954711 3.532844e-12\n",
       "Duration.in.month                                   -3.024058 2.494088e-03\n",
       "Credit.historyA34                                    3.532159 4.121815e-04\n",
       "PurposeA41                                           3.485906 4.904731e-04\n",
       "PurposeA43                                           3.099333 1.939570e-03\n",
       "Savings.account.bondsA65                             2.862317 4.205554e-03\n",
       "Installment.rate.in.percentage.of.disposable.income -3.330833 8.658658e-04\n",
       "Age.in.Years                                         2.602243 9.261616e-03"
      ]
     },
     "metadata": {},
     "output_type": "display_data"
    }
   ],
   "source": [
    "# List of significant variables and features with p-value <0.01\n",
    "\n",
    "significant.variables <- summary(m1)$coeff[-1,4] < 0.01\n",
    "names(significant.variables)[significant.variables == TRUE]\n",
    "summary(m1)$coeff[row.names(summary(m1)$coeff) %in% names(significant.variables)[significant.variables == TRUE],]"
   ]
  },
  {
   "cell_type": "code",
   "execution_count": 13,
   "metadata": {
    "collapsed": false
   },
   "outputs": [
    {
     "data": {
      "text/html": [
       "<table>\n",
       "<thead><tr><th></th><th scope=col>prob</th><th scope=col>res</th></tr></thead>\n",
       "<tbody>\n",
       "\t<tr><th scope=row>607</th><td>0.9623721 </td><td> 0.2769626</td></tr>\n",
       "\t<tr><th scope=row>937</th><td>0.7956822 </td><td>-1.7821777</td></tr>\n",
       "\t<tr><th scope=row>264</th><td>0.9409686 </td><td> 0.3488423</td></tr>\n",
       "\t<tr><th scope=row>379</th><td>0.1703228 </td><td>-0.6110950</td></tr>\n",
       "\t<tr><th scope=row>805</th><td>0.6978185 </td><td> 0.8482880</td></tr>\n",
       "\t<tr><th scope=row>974</th><td>0.1114751 </td><td>-0.4861947</td></tr>\n",
       "</tbody>\n",
       "</table>\n"
      ],
      "text/latex": [
       "\\begin{tabular}{r|ll}\n",
       "  & prob & res\\\\\n",
       "\\hline\n",
       "\t607 & 0.9623721  &  0.2769626\\\\\n",
       "\t937 & 0.7956822  & -1.7821777\\\\\n",
       "\t264 & 0.9409686  &  0.3488423\\\\\n",
       "\t379 & 0.1703228  & -0.6110950\\\\\n",
       "\t805 & 0.6978185  &  0.8482880\\\\\n",
       "\t974 & 0.1114751  & -0.4861947\\\\\n",
       "\\end{tabular}\n"
      ],
      "text/markdown": [
       "\n",
       "| <!--/--> | prob | res | \n",
       "|---|---|---|---|---|---|\n",
       "| 607 | 0.9623721  |  0.2769626 | \n",
       "| 937 | 0.7956822  | -1.7821777 | \n",
       "| 264 | 0.9409686  |  0.3488423 | \n",
       "| 379 | 0.1703228  | -0.6110950 | \n",
       "| 805 | 0.6978185  |  0.8482880 | \n",
       "| 974 | 0.1114751  | -0.4861947 | \n",
       "\n",
       "\n"
      ],
      "text/plain": [
       "    prob      res       \n",
       "607 0.9623721  0.2769626\n",
       "937 0.7956822 -1.7821777\n",
       "264 0.9409686  0.3488423\n",
       "379 0.1703228 -0.6110950\n",
       "805 0.6978185  0.8482880\n",
       "974 0.1114751 -0.4861947"
      ]
     },
     "metadata": {},
     "output_type": "display_data"
    },
    {
     "data": {},
     "metadata": {},
     "output_type": "display_data"
    },
    {
     "data": {
      "image/png": "[encoded data removed]",
      "text/plain": [
       "plot without title"
      ]
     },
     "metadata": {},
     "output_type": "display_data"
    }
   ],
   "source": [
    "prob <- predict(m1, type = \"response\")\n",
    "res <- residuals(m1, type = \"deviance\")\n",
    "head(cbind(prob,res))\n",
    "options(repr.plot.width=6, repr.plot.height=4.5)\n",
    "#Plot Residuals\n",
    "#plot(predict(m1), res, xlab=\"Fitted values\", ylab = \"Residuals\", ylim = max(abs(res)) * c(-1,1))\n",
    "qplot(predict(m1), res, ylab=\"Residual\", xlab=\"Fitted values\", xlim=c(-5,6))"
   ]
  },
  {
   "cell_type": "code",
   "execution_count": 14,
   "metadata": {
    "collapsed": false,
    "scrolled": true
   },
   "outputs": [
    {
     "name": "stderr",
     "output_type": "stream",
     "text": [
      "Waiting for profiling to be done...\n"
     ]
    },
    {
     "data": {
      "text/html": [
       "<table>\n",
       "<thead><tr><th></th><th scope=col>2.5 %</th><th scope=col>97.5 %</th></tr></thead>\n",
       "<tbody>\n",
       "\t<tr><th scope=row>(Intercept)</th><td>-2.0882796673</td><td> 6.234169e-01</td></tr>\n",
       "\t<tr><th scope=row>Status.of.existing.checking.accountA12</th><td> 0.0219683850</td><td> 9.853054e-01</td></tr>\n",
       "\t<tr><th scope=row>Status.of.existing.checking.accountA13</th><td> 0.0707209256</td><td> 1.689945e+00</td></tr>\n",
       "\t<tr><th scope=row>Status.of.existing.checking.accountA14</th><td> 1.3617185988</td><td> 2.424560e+00</td></tr>\n",
       "\t<tr><th scope=row>Duration.in.month</th><td>-0.0530354859</td><td>-1.142243e-02</td></tr>\n",
       "\t<tr><th scope=row>Credit.historyA31</th><td>-1.1067466984</td><td> 1.384366e+00</td></tr>\n",
       "\t<tr><th scope=row>Credit.historyA32</th><td> 0.0902581729</td><td> 1.982421e+00</td></tr>\n",
       "\t<tr><th scope=row>Credit.historyA33</th><td> 0.0749088674</td><td> 2.225888e+00</td></tr>\n",
       "\t<tr><th scope=row>Credit.historyA34</th><td> 0.8196177373</td><td> 2.823937e+00</td></tr>\n",
       "\t<tr><th scope=row>PurposeA41</th><td> 0.7028437076</td><td> 2.435940e+00</td></tr>\n",
       "\t<tr><th scope=row>PurposeA410</th><td>-0.7874006500</td><td> 3.055482e+00</td></tr>\n",
       "\t<tr><th scope=row>PurposeA42</th><td> 0.0546347085</td><td> 1.235805e+00</td></tr>\n",
       "\t<tr><th scope=row>PurposeA43</th><td> 0.3276457945</td><td> 1.442622e+00</td></tr>\n",
       "\t<tr><th scope=row>PurposeA44</th><td>-2.1095247866</td><td> 1.318673e+00</td></tr>\n",
       "\t<tr><th scope=row>PurposeA45</th><td>-0.2294495573</td><td> 2.477268e+00</td></tr>\n",
       "\t<tr><th scope=row>PurposeA46</th><td>-1.1737375004</td><td> 6.253935e-01</td></tr>\n",
       "\t<tr><th scope=row>PurposeA48</th><td>-0.1675878166</td><td> 4.968805e+00</td></tr>\n",
       "\t<tr><th scope=row>PurposeA49</th><td>-0.0992634557</td><td> 1.435698e+00</td></tr>\n",
       "\t<tr><th scope=row>Credit.amount</th><td>-0.0001900406</td><td> 9.790177e-06</td></tr>\n",
       "\t<tr><th scope=row>Savings.account.bondsA62</th><td>-0.2326020944</td><td> 1.061829e+00</td></tr>\n",
       "\t<tr><th scope=row>Savings.account.bondsA63</th><td>-0.5766738676</td><td> 1.251477e+00</td></tr>\n",
       "\t<tr><th scope=row>Savings.account.bondsA64</th><td> 0.5851299207</td><td> 3.876947e+00</td></tr>\n",
       "\t<tr><th scope=row>Savings.account.bondsA65</th><td> 0.2808667582</td><td> 1.444985e+00</td></tr>\n",
       "\t<tr><th scope=row>Installment.rate.in.percentage.of.disposable.income</th><td>-0.5258639519</td><td>-1.378067e-01</td></tr>\n",
       "\t<tr><th scope=row>Age.in.Years</th><td> 0.0062930360</td><td> 4.284676e-02</td></tr>\n",
       "</tbody>\n",
       "</table>\n"
      ],
      "text/latex": [
       "\\begin{tabular}{r|ll}\n",
       "  & 2.5 \\% & 97.5 \\%\\\\\n",
       "\\hline\n",
       "\t(Intercept) & -2.0882796673 &  6.234169e-01\\\\\n",
       "\tStatus.of.existing.checking.accountA12 &  0.0219683850 &  9.853054e-01\\\\\n",
       "\tStatus.of.existing.checking.accountA13 &  0.0707209256 &  1.689945e+00\\\\\n",
       "\tStatus.of.existing.checking.accountA14 &  1.3617185988 &  2.424560e+00\\\\\n",
       "\tDuration.in.month & -0.0530354859 & -1.142243e-02\\\\\n",
       "\tCredit.historyA31 & -1.1067466984 &  1.384366e+00\\\\\n",
       "\tCredit.historyA32 &  0.0902581729 &  1.982421e+00\\\\\n",
       "\tCredit.historyA33 &  0.0749088674 &  2.225888e+00\\\\\n",
       "\tCredit.historyA34 &  0.8196177373 &  2.823937e+00\\\\\n",
       "\tPurposeA41 &  0.7028437076 &  2.435940e+00\\\\\n",
       "\tPurposeA410 & -0.7874006500 &  3.055482e+00\\\\\n",
       "\tPurposeA42 &  0.0546347085 &  1.235805e+00\\\\\n",
       "\tPurposeA43 &  0.3276457945 &  1.442622e+00\\\\\n",
       "\tPurposeA44 & -2.1095247866 &  1.318673e+00\\\\\n",
       "\tPurposeA45 & -0.2294495573 &  2.477268e+00\\\\\n",
       "\tPurposeA46 & -1.1737375004 &  6.253935e-01\\\\\n",
       "\tPurposeA48 & -0.1675878166 &  4.968805e+00\\\\\n",
       "\tPurposeA49 & -0.0992634557 &  1.435698e+00\\\\\n",
       "\tCredit.amount & -0.0001900406 &  9.790177e-06\\\\\n",
       "\tSavings.account.bondsA62 & -0.2326020944 &  1.061829e+00\\\\\n",
       "\tSavings.account.bondsA63 & -0.5766738676 &  1.251477e+00\\\\\n",
       "\tSavings.account.bondsA64 &  0.5851299207 &  3.876947e+00\\\\\n",
       "\tSavings.account.bondsA65 &  0.2808667582 &  1.444985e+00\\\\\n",
       "\tInstallment.rate.in.percentage.of.disposable.income & -0.5258639519 & -1.378067e-01\\\\\n",
       "\tAge.in.Years &  0.0062930360 &  4.284676e-02\\\\\n",
       "\\end{tabular}\n"
      ],
      "text/markdown": [
       "\n",
       "| <!--/--> | 2.5 % | 97.5 % | \n",
       "|---|---|---|---|---|---|---|---|---|---|---|---|---|---|---|---|---|---|---|---|---|---|---|---|---|\n",
       "| (Intercept) | -2.0882796673 |  6.234169e-01 | \n",
       "| Status.of.existing.checking.accountA12 |  0.0219683850 |  9.853054e-01 | \n",
       "| Status.of.existing.checking.accountA13 |  0.0707209256 |  1.689945e+00 | \n",
       "| Status.of.existing.checking.accountA14 |  1.3617185988 |  2.424560e+00 | \n",
       "| Duration.in.month | -0.0530354859 | -1.142243e-02 | \n",
       "| Credit.historyA31 | -1.1067466984 |  1.384366e+00 | \n",
       "| Credit.historyA32 |  0.0902581729 |  1.982421e+00 | \n",
       "| Credit.historyA33 |  0.0749088674 |  2.225888e+00 | \n",
       "| Credit.historyA34 |  0.8196177373 |  2.823937e+00 | \n",
       "| PurposeA41 |  0.7028437076 |  2.435940e+00 | \n",
       "| PurposeA410 | -0.7874006500 |  3.055482e+00 | \n",
       "| PurposeA42 |  0.0546347085 |  1.235805e+00 | \n",
       "| PurposeA43 |  0.3276457945 |  1.442622e+00 | \n",
       "| PurposeA44 | -2.1095247866 |  1.318673e+00 | \n",
       "| PurposeA45 | -0.2294495573 |  2.477268e+00 | \n",
       "| PurposeA46 | -1.1737375004 |  6.253935e-01 | \n",
       "| PurposeA48 | -0.1675878166 |  4.968805e+00 | \n",
       "| PurposeA49 | -0.0992634557 |  1.435698e+00 | \n",
       "| Credit.amount | -0.0001900406 |  9.790177e-06 | \n",
       "| Savings.account.bondsA62 | -0.2326020944 |  1.061829e+00 | \n",
       "| Savings.account.bondsA63 | -0.5766738676 |  1.251477e+00 | \n",
       "| Savings.account.bondsA64 |  0.5851299207 |  3.876947e+00 | \n",
       "| Savings.account.bondsA65 |  0.2808667582 |  1.444985e+00 | \n",
       "| Installment.rate.in.percentage.of.disposable.income | -0.5258639519 | -1.378067e-01 | \n",
       "| Age.in.Years |  0.0062930360 |  4.284676e-02 | \n",
       "\n",
       "\n"
      ],
      "text/plain": [
       "                                                    2.5 %         97.5 %       \n",
       "(Intercept)                                         -2.0882796673  6.234169e-01\n",
       "Status.of.existing.checking.accountA12               0.0219683850  9.853054e-01\n",
       "Status.of.existing.checking.accountA13               0.0707209256  1.689945e+00\n",
       "Status.of.existing.checking.accountA14               1.3617185988  2.424560e+00\n",
       "Duration.in.month                                   -0.0530354859 -1.142243e-02\n",
       "Credit.historyA31                                   -1.1067466984  1.384366e+00\n",
       "Credit.historyA32                                    0.0902581729  1.982421e+00\n",
       "Credit.historyA33                                    0.0749088674  2.225888e+00\n",
       "Credit.historyA34                                    0.8196177373  2.823937e+00\n",
       "PurposeA41                                           0.7028437076  2.435940e+00\n",
       "PurposeA410                                         -0.7874006500  3.055482e+00\n",
       "PurposeA42                                           0.0546347085  1.235805e+00\n",
       "PurposeA43                                           0.3276457945  1.442622e+00\n",
       "PurposeA44                                          -2.1095247866  1.318673e+00\n",
       "PurposeA45                                          -0.2294495573  2.477268e+00\n",
       "PurposeA46                                          -1.1737375004  6.253935e-01\n",
       "PurposeA48                                          -0.1675878166  4.968805e+00\n",
       "PurposeA49                                          -0.0992634557  1.435698e+00\n",
       "Credit.amount                                       -0.0001900406  9.790177e-06\n",
       "Savings.account.bondsA62                            -0.2326020944  1.061829e+00\n",
       "Savings.account.bondsA63                            -0.5766738676  1.251477e+00\n",
       "Savings.account.bondsA64                             0.5851299207  3.876947e+00\n",
       "Savings.account.bondsA65                             0.2808667582  1.444985e+00\n",
       "Installment.rate.in.percentage.of.disposable.income -0.5258639519 -1.378067e-01\n",
       "Age.in.Years                                         0.0062930360  4.284676e-02"
      ]
     },
     "metadata": {},
     "output_type": "display_data"
    }
   ],
   "source": [
    "## CIs using profiled log-likelihood\n",
    "confint(m1)"
   ]
  },
  {
   "cell_type": "code",
   "execution_count": 15,
   "metadata": {
    "collapsed": false
   },
   "outputs": [
    {
     "name": "stderr",
     "output_type": "stream",
     "text": [
      "Waiting for profiling to be done...\n"
     ]
    },
    {
     "data": {
      "text/html": [
       "<table>\n",
       "<thead><tr><th></th><th scope=col>OR</th><th scope=col>2.5 %</th><th scope=col>97.5 %</th></tr></thead>\n",
       "<tbody>\n",
       "\t<tr><th scope=row>(Intercept)</th><td>0.4877724  </td><td>0.1239001  </td><td>  1.8652907</td></tr>\n",
       "\t<tr><th scope=row>Status.of.existing.checking.accountA12</th><td>1.6510254  </td><td>1.0222115  </td><td>  2.6786299</td></tr>\n",
       "\t<tr><th scope=row>Status.of.existing.checking.accountA13</th><td>2.3427040  </td><td>1.0732817  </td><td>  5.4191841</td></tr>\n",
       "\t<tr><th scope=row>Status.of.existing.checking.accountA14</th><td>6.5631441  </td><td>3.9028951  </td><td> 11.2972587</td></tr>\n",
       "\t<tr><th scope=row>Duration.in.month</th><td>0.9684960  </td><td>0.9483464  </td><td>  0.9886426</td></tr>\n",
       "\t<tr><th scope=row>Credit.historyA31</th><td>1.1401736  </td><td>0.3306329  </td><td>  3.9922951</td></tr>\n",
       "\t<tr><th scope=row>Credit.historyA32</th><td>2.7474371  </td><td>1.0944568  </td><td>  7.2602979</td></tr>\n",
       "\t<tr><th scope=row>Credit.historyA33</th><td>3.0767458  </td><td>1.0777859  </td><td>  9.2616997</td></tr>\n",
       "\t<tr><th scope=row>Credit.historyA34</th><td>6.0221108  </td><td>2.2696321  </td><td> 16.8430236</td></tr>\n",
       "\t<tr><th scope=row>PurposeA41</th><td>4.6319430  </td><td>2.0194874  </td><td> 11.4265499</td></tr>\n",
       "\t<tr><th scope=row>PurposeA410</th><td>2.6741132  </td><td>0.4550260  </td><td> 21.2314180</td></tr>\n",
       "\t<tr><th scope=row>PurposeA42</th><td>1.8956841  </td><td>1.0561547  </td><td>  3.4411464</td></tr>\n",
       "\t<tr><th scope=row>PurposeA43</th><td>2.4109208  </td><td>1.3876974  </td><td>  4.2317775</td></tr>\n",
       "\t<tr><th scope=row>PurposeA44</th><td>0.6942277  </td><td>0.1212956  </td><td>  3.7384579</td></tr>\n",
       "\t<tr><th scope=row>PurposeA45</th><td>2.8156256  </td><td>0.7949711  </td><td> 11.9086878</td></tr>\n",
       "\t<tr><th scope=row>PurposeA46</th><td>0.7552675  </td><td>0.3092091  </td><td>  1.8689813</td></tr>\n",
       "\t<tr><th scope=row>PurposeA48</th><td>6.7900632  </td><td>0.8457023  </td><td>143.8549400</td></tr>\n",
       "\t<tr><th scope=row>PurposeA49</th><td>1.9228019  </td><td>0.9055041  </td><td>  4.2025761</td></tr>\n",
       "\t<tr><th scope=row>Credit.amount</th><td>0.9999100  </td><td>0.9998100  </td><td>  1.0000098</td></tr>\n",
       "\t<tr><th scope=row>Savings.account.bondsA62</th><td>1.4917554  </td><td>0.7924688  </td><td>  2.8916537</td></tr>\n",
       "\t<tr><th scope=row>Savings.account.bondsA63</th><td>1.3301514  </td><td>0.5617638  </td><td>  3.4955028</td></tr>\n",
       "\t<tr><th scope=row>Savings.account.bondsA64</th><td>7.0399791  </td><td>1.7952242  </td><td> 48.2766095</td></tr>\n",
       "\t<tr><th scope=row>Savings.account.bondsA65</th><td>2.3337031  </td><td>1.3242771  </td><td>  4.2417876</td></tr>\n",
       "\t<tr><th scope=row>Installment.rate.in.percentage.of.disposable.income</th><td>0.7195375  </td><td>0.5910445  </td><td>  0.8712671</td></tr>\n",
       "\t<tr><th scope=row>Age.in.Years</th><td>1.0245115  </td><td>1.0063129  </td><td>  1.0437779</td></tr>\n",
       "</tbody>\n",
       "</table>\n"
      ],
      "text/latex": [
       "\\begin{tabular}{r|lll}\n",
       "  & OR & 2.5 \\% & 97.5 \\%\\\\\n",
       "\\hline\n",
       "\t(Intercept) & 0.4877724   & 0.1239001   &   1.8652907\\\\\n",
       "\tStatus.of.existing.checking.accountA12 & 1.6510254   & 1.0222115   &   2.6786299\\\\\n",
       "\tStatus.of.existing.checking.accountA13 & 2.3427040   & 1.0732817   &   5.4191841\\\\\n",
       "\tStatus.of.existing.checking.accountA14 & 6.5631441   & 3.9028951   &  11.2972587\\\\\n",
       "\tDuration.in.month & 0.9684960   & 0.9483464   &   0.9886426\\\\\n",
       "\tCredit.historyA31 & 1.1401736   & 0.3306329   &   3.9922951\\\\\n",
       "\tCredit.historyA32 & 2.7474371   & 1.0944568   &   7.2602979\\\\\n",
       "\tCredit.historyA33 & 3.0767458   & 1.0777859   &   9.2616997\\\\\n",
       "\tCredit.historyA34 & 6.0221108   & 2.2696321   &  16.8430236\\\\\n",
       "\tPurposeA41 & 4.6319430   & 2.0194874   &  11.4265499\\\\\n",
       "\tPurposeA410 & 2.6741132   & 0.4550260   &  21.2314180\\\\\n",
       "\tPurposeA42 & 1.8956841   & 1.0561547   &   3.4411464\\\\\n",
       "\tPurposeA43 & 2.4109208   & 1.3876974   &   4.2317775\\\\\n",
       "\tPurposeA44 & 0.6942277   & 0.1212956   &   3.7384579\\\\\n",
       "\tPurposeA45 & 2.8156256   & 0.7949711   &  11.9086878\\\\\n",
       "\tPurposeA46 & 0.7552675   & 0.3092091   &   1.8689813\\\\\n",
       "\tPurposeA48 & 6.7900632   & 0.8457023   & 143.8549400\\\\\n",
       "\tPurposeA49 & 1.9228019   & 0.9055041   &   4.2025761\\\\\n",
       "\tCredit.amount & 0.9999100   & 0.9998100   &   1.0000098\\\\\n",
       "\tSavings.account.bondsA62 & 1.4917554   & 0.7924688   &   2.8916537\\\\\n",
       "\tSavings.account.bondsA63 & 1.3301514   & 0.5617638   &   3.4955028\\\\\n",
       "\tSavings.account.bondsA64 & 7.0399791   & 1.7952242   &  48.2766095\\\\\n",
       "\tSavings.account.bondsA65 & 2.3337031   & 1.3242771   &   4.2417876\\\\\n",
       "\tInstallment.rate.in.percentage.of.disposable.income & 0.7195375   & 0.5910445   &   0.8712671\\\\\n",
       "\tAge.in.Years & 1.0245115   & 1.0063129   &   1.0437779\\\\\n",
       "\\end{tabular}\n"
      ],
      "text/markdown": [
       "\n",
       "| <!--/--> | OR | 2.5 % | 97.5 % | \n",
       "|---|---|---|---|---|---|---|---|---|---|---|---|---|---|---|---|---|---|---|---|---|---|---|---|---|\n",
       "| (Intercept) | 0.4877724   | 0.1239001   |   1.8652907 | \n",
       "| Status.of.existing.checking.accountA12 | 1.6510254   | 1.0222115   |   2.6786299 | \n",
       "| Status.of.existing.checking.accountA13 | 2.3427040   | 1.0732817   |   5.4191841 | \n",
       "| Status.of.existing.checking.accountA14 | 6.5631441   | 3.9028951   |  11.2972587 | \n",
       "| Duration.in.month | 0.9684960   | 0.9483464   |   0.9886426 | \n",
       "| Credit.historyA31 | 1.1401736   | 0.3306329   |   3.9922951 | \n",
       "| Credit.historyA32 | 2.7474371   | 1.0944568   |   7.2602979 | \n",
       "| Credit.historyA33 | 3.0767458   | 1.0777859   |   9.2616997 | \n",
       "| Credit.historyA34 | 6.0221108   | 2.2696321   |  16.8430236 | \n",
       "| PurposeA41 | 4.6319430   | 2.0194874   |  11.4265499 | \n",
       "| PurposeA410 | 2.6741132   | 0.4550260   |  21.2314180 | \n",
       "| PurposeA42 | 1.8956841   | 1.0561547   |   3.4411464 | \n",
       "| PurposeA43 | 2.4109208   | 1.3876974   |   4.2317775 | \n",
       "| PurposeA44 | 0.6942277   | 0.1212956   |   3.7384579 | \n",
       "| PurposeA45 | 2.8156256   | 0.7949711   |  11.9086878 | \n",
       "| PurposeA46 | 0.7552675   | 0.3092091   |   1.8689813 | \n",
       "| PurposeA48 | 6.7900632   | 0.8457023   | 143.8549400 | \n",
       "| PurposeA49 | 1.9228019   | 0.9055041   |   4.2025761 | \n",
       "| Credit.amount | 0.9999100   | 0.9998100   |   1.0000098 | \n",
       "| Savings.account.bondsA62 | 1.4917554   | 0.7924688   |   2.8916537 | \n",
       "| Savings.account.bondsA63 | 1.3301514   | 0.5617638   |   3.4955028 | \n",
       "| Savings.account.bondsA64 | 7.0399791   | 1.7952242   |  48.2766095 | \n",
       "| Savings.account.bondsA65 | 2.3337031   | 1.3242771   |   4.2417876 | \n",
       "| Installment.rate.in.percentage.of.disposable.income | 0.7195375   | 0.5910445   |   0.8712671 | \n",
       "| Age.in.Years | 1.0245115   | 1.0063129   |   1.0437779 | \n",
       "\n",
       "\n"
      ],
      "text/plain": [
       "                                                    OR        2.5 %    \n",
       "(Intercept)                                         0.4877724 0.1239001\n",
       "Status.of.existing.checking.accountA12              1.6510254 1.0222115\n",
       "Status.of.existing.checking.accountA13              2.3427040 1.0732817\n",
       "Status.of.existing.checking.accountA14              6.5631441 3.9028951\n",
       "Duration.in.month                                   0.9684960 0.9483464\n",
       "Credit.historyA31                                   1.1401736 0.3306329\n",
       "Credit.historyA32                                   2.7474371 1.0944568\n",
       "Credit.historyA33                                   3.0767458 1.0777859\n",
       "Credit.historyA34                                   6.0221108 2.2696321\n",
       "PurposeA41                                          4.6319430 2.0194874\n",
       "PurposeA410                                         2.6741132 0.4550260\n",
       "PurposeA42                                          1.8956841 1.0561547\n",
       "PurposeA43                                          2.4109208 1.3876974\n",
       "PurposeA44                                          0.6942277 0.1212956\n",
       "PurposeA45                                          2.8156256 0.7949711\n",
       "PurposeA46                                          0.7552675 0.3092091\n",
       "PurposeA48                                          6.7900632 0.8457023\n",
       "PurposeA49                                          1.9228019 0.9055041\n",
       "Credit.amount                                       0.9999100 0.9998100\n",
       "Savings.account.bondsA62                            1.4917554 0.7924688\n",
       "Savings.account.bondsA63                            1.3301514 0.5617638\n",
       "Savings.account.bondsA64                            7.0399791 1.7952242\n",
       "Savings.account.bondsA65                            2.3337031 1.3242771\n",
       "Installment.rate.in.percentage.of.disposable.income 0.7195375 0.5910445\n",
       "Age.in.Years                                        1.0245115 1.0063129\n",
       "                                                    97.5 %     \n",
       "(Intercept)                                           1.8652907\n",
       "Status.of.existing.checking.accountA12                2.6786299\n",
       "Status.of.existing.checking.accountA13                5.4191841\n",
       "Status.of.existing.checking.accountA14               11.2972587\n",
       "Duration.in.month                                     0.9886426\n",
       "Credit.historyA31                                     3.9922951\n",
       "Credit.historyA32                                     7.2602979\n",
       "Credit.historyA33                                     9.2616997\n",
       "Credit.historyA34                                    16.8430236\n",
       "PurposeA41                                           11.4265499\n",
       "PurposeA410                                          21.2314180\n",
       "PurposeA42                                            3.4411464\n",
       "PurposeA43                                            4.2317775\n",
       "PurposeA44                                            3.7384579\n",
       "PurposeA45                                           11.9086878\n",
       "PurposeA46                                            1.8689813\n",
       "PurposeA48                                          143.8549400\n",
       "PurposeA49                                            4.2025761\n",
       "Credit.amount                                         1.0000098\n",
       "Savings.account.bondsA62                              2.8916537\n",
       "Savings.account.bondsA63                              3.4955028\n",
       "Savings.account.bondsA64                             48.2766095\n",
       "Savings.account.bondsA65                              4.2417876\n",
       "Installment.rate.in.percentage.of.disposable.income   0.8712671\n",
       "Age.in.Years                                          1.0437779"
      ]
     },
     "metadata": {},
     "output_type": "display_data"
    }
   ],
   "source": [
    "## odds ratios and 95% CI\n",
    "exp(cbind(OR = coef(m1), confint(m1)))"
   ]
  },
  {
   "cell_type": "code",
   "execution_count": 16,
   "metadata": {
    "collapsed": false
   },
   "outputs": [
    {
     "data": {
      "image/png": "[encoded data removed]",
      "text/plain": [
       "Plot with title “ROC m1: Logistic Regression Performance”"
      ]
     },
     "metadata": {},
     "output_type": "display_data"
    }
   ],
   "source": [
    "#score test data set\n",
    "test_1$m1_score <- predict(m1,type='response',test_1)\n",
    "m1_pred <- prediction(test_1$m1_score, test_1$Default_status)\n",
    "m1_perf <- performance(m1_pred,\"tpr\",\"fpr\")\n",
    "\n",
    "#ROC\n",
    "options(repr.plot.width=6, repr.plot.height=5)\n",
    "plot(m1_perf, lwd=2, colorize=TRUE, main=\"ROC m1: Logistic Regression Performance\", \n",
    "     xlab=\"False positive rate (Specificity)\", ylab=\"True positive rate (Sensitivity)\")\n",
    "lines(x=c(0, 1), y=c(0, 1), col=\"red\", lwd=1, lty=3);\n",
    "lines(x=c(1, 0), y=c(0, 1), col=\"green\", lwd=1, lty=4)"
   ]
  },
  {
   "cell_type": "code",
   "execution_count": 17,
   "metadata": {
    "collapsed": false
   },
   "outputs": [
    {
     "data": {
      "image/png": "[encoded data removed]",
      "text/plain": [
       "Plot with title “m1 Logistic:Accuracy as function of threshold”"
      ]
     },
     "metadata": {},
     "output_type": "display_data"
    }
   ],
   "source": [
    "# Plot accuracy as function of threshold\n",
    "m1_perf_acc <- performance(m1_pred, measure = \"acc\")\n",
    "plot(m1_perf_acc, main=\"m1 Logistic:Accuracy as function of threshold\")"
   ]
  },
  {
   "cell_type": "markdown",
   "metadata": {},
   "source": [
    "###  AUROC & Gini's measure\n",
    "* AUROC varies between 0.5 and 1, where 0.5 indicates chance classification and 1 indicates perfect classification\n",
    "* Gini's measure lies between 0 and 1"
   ]
  },
  {
   "cell_type": "code",
   "execution_count": 18,
   "metadata": {
    "collapsed": false
   },
   "outputs": [
    {
     "name": "stdout",
     "output_type": "stream",
     "text": [
      "AUROC:  77.5 \tGini: 55 \n"
     ]
    }
   ],
   "source": [
    "# Gini & AUC m1\n",
    "m1_AUROC <- round(performance(m1_pred, measure = \"auc\")@y.values[[1]]*100, 2)\n",
    "m1_Gini <- (2*m1_AUROC - 100)\n",
    "cat(\"AUROC: \",m1_AUROC,\"\\tGini:\", m1_Gini, \"\\n\")"
   ]
  },
  {
   "cell_type": "code",
   "execution_count": 19,
   "metadata": {
    "collapsed": false
   },
   "outputs": [
    {
     "data": {},
     "metadata": {},
     "output_type": "display_data"
    },
    {
     "data": {
      "image/png": "[encoded data removed]",
      "text/plain": [
       "plot without title"
      ]
     },
     "metadata": {},
     "output_type": "display_data"
    }
   ],
   "source": [
    "qplot(m1_pred@predictions[[1]], geom='histogram', bins=10, color=I(\"gray\"), ylab='Frequency', xlab='Predicted values', main='Histogram of predicted values')"
   ]
  },
  {
   "cell_type": "code",
   "execution_count": 20,
   "metadata": {
    "collapsed": false
   },
   "outputs": [
    {
     "data": {
      "text/html": [
       "0.2"
      ],
      "text/latex": [
       "0.2"
      ],
      "text/markdown": [
       "0.2"
      ],
      "text/plain": [
       "[1] 0.2"
      ]
     },
     "metadata": {},
     "output_type": "display_data"
    },
    {
     "data": {
      "text/html": [
       "72.67"
      ],
      "text/latex": [
       "72.67"
      ],
      "text/markdown": [
       "72.67"
      ],
      "text/plain": [
       "[1] 72.67"
      ]
     },
     "metadata": {},
     "output_type": "display_data"
    },
    {
     "data": {
      "text/plain": [
       "\n",
       " fn  fp  tn  tp \n",
       "  3  79  15 203 "
      ]
     },
     "metadata": {},
     "output_type": "display_data"
    },
    {
     "name": "stdout",
     "output_type": "stream",
     "text": [
      "------------------------"
     ]
    },
    {
     "data": {
      "text/html": [
       "0.3"
      ],
      "text/latex": [
       "0.3"
      ],
      "text/markdown": [
       "0.3"
      ],
      "text/plain": [
       "[1] 0.3"
      ]
     },
     "metadata": {},
     "output_type": "display_data"
    },
    {
     "data": {
      "text/html": [
       "73.33"
      ],
      "text/latex": [
       "73.33"
      ],
      "text/markdown": [
       "73.33"
      ],
      "text/plain": [
       "[1] 73.33"
      ]
     },
     "metadata": {},
     "output_type": "display_data"
    },
    {
     "data": {
      "text/plain": [
       "\n",
       " fn  fp  tn  tp \n",
       " 12  68  26 194 "
      ]
     },
     "metadata": {},
     "output_type": "display_data"
    },
    {
     "name": "stdout",
     "output_type": "stream",
     "text": [
      "------------------------"
     ]
    },
    {
     "data": {
      "text/html": [
       "0.8"
      ],
      "text/latex": [
       "0.8"
      ],
      "text/markdown": [
       "0.8"
      ],
      "text/plain": [
       "[1] 0.8"
      ]
     },
     "metadata": {},
     "output_type": "display_data"
    },
    {
     "data": {
      "text/html": [
       "65"
      ],
      "text/latex": [
       "65"
      ],
      "text/markdown": [
       "65"
      ],
      "text/plain": [
       "[1] 65"
      ]
     },
     "metadata": {},
     "output_type": "display_data"
    },
    {
     "data": {
      "text/plain": [
       "\n",
       " fn  fp  tn  tp \n",
       " 88  17  77 118 "
      ]
     },
     "metadata": {},
     "output_type": "display_data"
    },
    {
     "name": "stdout",
     "output_type": "stream",
     "text": [
      "------------------------"
     ]
    }
   ],
   "source": [
    "testaccuracy <- cbind(as.numeric(test_1$Default_status)-1, m1_pred@predictions[[1]])\n",
    "cutoff <- function(ctoff) {\n",
    "    t <- ifelse(testaccuracy[,2]<=ctoff,0,1)\n",
    "    tb <- cbind(testaccuracy[,1],t)\n",
    "    pn <- ifelse(tb[,1]==0 & tb[,2]==0,'tn',ifelse(tb[,1]==1 & tb[,2]==1,'tp',ifelse(tb[,1]==1 & tb[,2]==0,'fn','fp')))\n",
    "    pn <- as.factor(pn)\n",
    "    acc <- round(length(pn[pn=='tn' | pn=='tp'])*100/length(pn),2)\n",
    "    return(list(ctoff,pn,acc))\n",
    "}\n",
    "co <- c(0.2,0.3,0.8)\n",
    "t <- sapply(co,cutoff)\n",
    "t[[1]]; t[[3]]; table(t[[2]])\n",
    "cat('------------------------')\n",
    "t[[4]]; t[[6]]; table(t[[5]])\n",
    "cat('------------------------')\n",
    "t[[7]]; t[[9]]; table(t[[8]])\n",
    "cat('------------------------')"
   ]
  },
  {
   "cell_type": "code",
   "execution_count": null,
   "metadata": {
    "collapsed": true
   },
   "outputs": [],
   "source": []
  }
 ],
 "metadata": {
  "kernelspec": {
   "display_name": "R",
   "language": "R",
   "name": "ir"
  },
  "language_info": {
   "codemirror_mode": "r",
   "file_extension": ".r",
   "mimetype": "text/x-r-source",
   "name": "R",
   "pygments_lexer": "r",
   "version": "3.5.1"
  }
 },
 "nbformat": 4,
 "nbformat_minor": 2
}
