{
 "cells": [
  {
   "cell_type": "markdown",
   "metadata": {},
   "source": [
    "# Logistic Regression"
   ]
  },
  {
   "cell_type": "markdown",
   "metadata": {},
   "source": [
    "The German Credit data set contains observations on 20 variables for 1000 past applicants for credit. Each applicant was rated as “good credit” (700 cases) or “bad credit” (300 cases).\n",
    "\n",
    "New applicants for credit can also be evaluated on these 20 \"predictor\" variables. We want to develop a\n",
    "credit scoring rule that can be used to determine if a new applicant is a good credit risk or a bad credit risk,\n",
    "based on values for one or more of the predictor variables.\n",
    "\n",
    "This is a case of Supervised Machine Learning - the predicted / dependent variable values are available in the data set. "
   ]
  },
  {
   "cell_type": "markdown",
   "metadata": {},
   "source": [
    "### From probability to odds to log of odds\n",
    "\n",
    "Everything starts with the concept of probability.  Assume that the probability of success of some event is .8.  Then the probability of failure is 1- .8 = .2.  The odds of success are defined as the ratio of the probability of success over the probability of failure.  In our example, the odds of success are .8/.2 = 4.  That is to say that the odds of success are  4 to 1.  If the probability of success is .5, i.e., 50-50 percent chance, then the odds of success is 1 to 1.\n",
    "\n",
    "The transformation from probability to odds is a monotonic transformation, meaning the odds increase as the probability increases or vice versa.  Probability ranges from 0 and 1.  Odds range from 0 and positive infinity."
   ]
  },
  {
   "cell_type": "markdown",
   "metadata": {},
   "source": [
    "## The Logistic Regression Model\n",
    "The probability of occurrence of the event is non-linear. We do not consider the probability directly, instead we phrase the regression problem in terms of the odds of occurrence.\n",
    "\n",
    "How is probability related to odds? If _y_ is the probability of occurrence, then $ \\displaystyle \\frac{y}{1-y} $ is the `odds ratio`. \n",
    "\n",
    "Whereas in Linear Regression \\begin{equation} y = \\beta_0 + \\beta_1 x_1 + \\beta_2 x_2 + \\cdots \\end{equation}\n",
    "\n",
    "in logistic regression the `odds ratio` follows a non-linear function. \n",
    "\n",
    "In particular, the log of the odds ratio follows a linear model, i.e.\n",
    "\\begin{equation} \\ln\\left( \\frac{y}{1-y} \\right) = \\beta_0 + \\beta_1 x_1 + \\beta_2 x_2 + \\cdots \\end{equation}\n",
    "\n",
    "In logistic regression, a coefficient $\\beta_j$ signifies that if $x_j$ is changed by 1, the log of the odds that y occurs will go up by $\\beta_j$.\n",
    "\n",
    "Solving for _y_, we get \\begin{equation} y = \\frac{e^{\\beta_0 + \\beta_1 x_1 + \\beta_2 x_2 + \\cdots }}{1+e^{\\beta_0 + \\beta_1 x_1 + \\beta_2 x_2 + \\cdots }} \\end{equation}"
   ]
  },
  {
   "cell_type": "markdown",
   "metadata": {},
   "source": [
    "When outcomes are categorical, it is much easier to think about the outcome in terms of probabilities and odds ratios\n",
    "These are the quantities that are usually reported and described in an analysis, rather than the regression coefficients\n",
    "themselves."
   ]
  },
  {
   "cell_type": "code",
   "execution_count": 1,
   "metadata": {
    "collapsed": false
   },
   "outputs": [
    {
     "name": "stderr",
     "output_type": "stream",
     "text": [
      "Loading required package: gplots\n",
      "\n",
      "Attaching package: ‘gplots’\n",
      "\n",
      "The following object is masked from ‘package:stats’:\n",
      "\n",
      "    lowess\n",
      "\n",
      "Loading required package: lattice\n"
     ]
    },
    {
     "data": {
      "text/html": [
       "<ol class=list-inline>\n",
       "\t<li>'Status.of.existing.checking.account'</li>\n",
       "\t<li>'Duration.in.month'</li>\n",
       "\t<li>'Credit.history'</li>\n",
       "\t<li>'Purpose'</li>\n",
       "\t<li>'Credit.amount'</li>\n",
       "\t<li>'Savings.account.bonds'</li>\n",
       "\t<li>'Present.employment.since.'</li>\n",
       "\t<li>'Installment.rate.in.percentage.of.disposable.income'</li>\n",
       "\t<li>'Property'</li>\n",
       "\t<li>'Age.in.Years'</li>\n",
       "\t<li>'Default_status'</li>\n",
       "</ol>\n"
      ],
      "text/latex": [
       "\\begin{enumerate*}\n",
       "\\item 'Status.of.existing.checking.account'\n",
       "\\item 'Duration.in.month'\n",
       "\\item 'Credit.history'\n",
       "\\item 'Purpose'\n",
       "\\item 'Credit.amount'\n",
       "\\item 'Savings.account.bonds'\n",
       "\\item 'Present.employment.since.'\n",
       "\\item 'Installment.rate.in.percentage.of.disposable.income'\n",
       "\\item 'Property'\n",
       "\\item 'Age.in.Years'\n",
       "\\item 'Default\\_status'\n",
       "\\end{enumerate*}\n"
      ],
      "text/markdown": [
       "1. 'Status.of.existing.checking.account'\n",
       "2. 'Duration.in.month'\n",
       "3. 'Credit.history'\n",
       "4. 'Purpose'\n",
       "5. 'Credit.amount'\n",
       "6. 'Savings.account.bonds'\n",
       "7. 'Present.employment.since.'\n",
       "8. 'Installment.rate.in.percentage.of.disposable.income'\n",
       "9. 'Property'\n",
       "10. 'Age.in.Years'\n",
       "11. 'Default_status'\n",
       "\n",
       "\n"
      ],
      "text/plain": [
       " [1] \"Status.of.existing.checking.account\"                \n",
       " [2] \"Duration.in.month\"                                  \n",
       " [3] \"Credit.history\"                                     \n",
       " [4] \"Purpose\"                                            \n",
       " [5] \"Credit.amount\"                                      \n",
       " [6] \"Savings.account.bonds\"                              \n",
       " [7] \"Present.employment.since.\"                          \n",
       " [8] \"Installment.rate.in.percentage.of.disposable.income\"\n",
       " [9] \"Property\"                                           \n",
       "[10] \"Age.in.Years\"                                       \n",
       "[11] \"Default_status\"                                     "
      ]
     },
     "metadata": {},
     "output_type": "display_data"
    }
   ],
   "source": [
    "library(ROCR)\n",
    "library(Metrics)\n",
    "library(gplots)\n",
    "library(stats)\n",
    "library(DAAG)\n",
    "options(repr.plot.width=5, repr.plot.height=3)\n",
    "\n",
    "r <- read.csv(\"german.csv\")\n",
    "r2 <- r[,c(1:8,12:13,21)]\n",
    "colnames(r2)\n",
    "r2$Default_status <- ifelse(r2$Default_status==0,'Good','Bad')\n",
    "r2$Default_status <-as.factor(r2$Default_status)"
   ]
  },
  {
   "cell_type": "markdown",
   "metadata": {},
   "source": [
    "We define some functions that we will use later in this workshop session"
   ]
  },
  {
   "cell_type": "code",
   "execution_count": 2,
   "metadata": {
    "collapsed": false
   },
   "outputs": [],
   "source": [
    "# Function 1: Create function to calculate percent distribution for factors\n",
    "pct <- function(x){\n",
    "    tbl <- table(x)\n",
    "    tbl_pct <- cbind(tbl,round(prop.table(tbl)*100,2))\n",
    "    colnames(tbl_pct) <- c('Count','Percentage')\n",
    "    tbl_pct\n",
    "}\n",
    "# pct(cdata$good_bad_21)\n",
    "\n",
    "# Function 2: function to calculate IV, WOE and Efficiency\n",
    "gbpct <- function(x, y){\n",
    "    mt <- as.matrix(table(as.factor(x), y)) \n",
    "    # x -> independent variable(vector), y->dependent variable(vector)\n",
    "    Total <- mt[,1] + mt[,2]\n",
    "    # Total observations\n",
    "    Total_Pct <- round(Total/sum(mt)*100, 2)\n",
    "    # Total PCT\n",
    "    Bad_pct <- round((mt[,1]/sum(mt[,1]))*100, 2)\n",
    "    # PCT of BAd or event or response\n",
    "    Good_pct <- round((mt[,2]/sum(mt[,2]))*100, 2)\n",
    "    # PCT of Good or non-event\n",
    "    Bad_Rate <- round((mt[,1]/(mt[,1]+mt[,2]))*100, 2) # Bad rate or response rate\n",
    "    grp_score <- round((Good_pct/(Good_pct + Bad_pct))*10, 2) # score for each group\n",
    "    WOE <- round(log(Good_pct/Bad_pct)*10, 2)\n",
    "    # Weight of Evidence for each group\n",
    "    g_b_comp <- ifelse(mt[,1] == mt[,2], 0, 1)\n",
    "    IV <- ifelse(g_b_comp == 0, 0, (Good_pct - Bad_pct)*(WOE/10)) # Information value for each group\n",
    "    Efficiency <- abs(Good_pct - Bad_pct)/2\n",
    "    # Efficiency for each group\n",
    "    otb<-as.data.frame(cbind(mt, Good_pct, Bad_pct, Total,\n",
    "    Total_Pct, Bad_Rate, grp_score,\n",
    "    WOE, IV, Efficiency ))\n",
    "    otb$Names <- rownames(otb)\n",
    "    rownames(otb) <- NULL\n",
    "    otb[,c(12,2,1,3:11)] # return IV table\n",
    "}\n",
    "\n",
    "# Function 3: Normalize using Range\n",
    "normalize <- function(x) {\n",
    "    return((x - min(x)) / (max(x) - min(x)))\n",
    "}"
   ]
  },
  {
   "cell_type": "code",
   "execution_count": 3,
   "metadata": {
    "collapsed": false
   },
   "outputs": [
    {
     "name": "stderr",
     "output_type": "stream",
     "text": [
      "Loading required package: ggplot2\n",
      "\n",
      "Attaching package: ‘caret’\n",
      "\n",
      "The following objects are masked from ‘package:Metrics’:\n",
      "\n",
      "    precision, recall\n",
      "\n"
     ]
    },
    {
     "data": {
      "text/html": [
       "<table>\n",
       "<thead><tr><th></th><th scope=col>Count</th><th scope=col>Percentage</th></tr></thead>\n",
       "<tbody>\n",
       "\t<tr><th scope=row>Bad</th><td>300</td><td>30 </td></tr>\n",
       "\t<tr><th scope=row>Good</th><td>700</td><td>70 </td></tr>\n",
       "</tbody>\n",
       "</table>\n"
      ],
      "text/latex": [
       "\\begin{tabular}{r|ll}\n",
       "  & Count & Percentage\\\\\n",
       "\\hline\n",
       "\tBad & 300 & 30 \\\\\n",
       "\tGood & 700 & 70 \\\\\n",
       "\\end{tabular}\n"
      ],
      "text/markdown": [
       "\n",
       "| <!--/--> | Count | Percentage | \n",
       "|---|---|\n",
       "| Bad | 300 | 30  | \n",
       "| Good | 700 | 70  | \n",
       "\n",
       "\n"
      ],
      "text/plain": [
       "     Count Percentage\n",
       "Bad  300   30        \n",
       "Good 700   70        "
      ]
     },
     "metadata": {},
     "output_type": "display_data"
    }
   ],
   "source": [
    "library(caret)\n",
    "library(ggplot2)\n",
    "pct(r2$Default_status)"
   ]
  },
  {
   "cell_type": "markdown",
   "metadata": {},
   "source": [
    "---\n",
    "### Weight of Evidence(WOE)\n",
    "WoE shows predictive power of an independent variable in relation to dependent variable. It\n",
    "evolved with credit scoring to magnify separation power between a good customer and a bad customer , hence it is\n",
    "one of the measures of separation between two classes(good/bad, yes/no, 0/1, A/B, response/no-response). It is defined\n",
    "as: \\begin{equation} \\text{WoE} = \\ln\\left( \\frac{\\text{Proportion of non events (Good)}}{\\text{Proportion of events (Bad)}} \\right) \\end{equation}\n",
    "\n",
    "It is computed from the basic odds ratio:\n",
    "(Proportion of Good Credit Outcomes) / (Proportion of Bad Credit Outcomes)"
   ]
  },
  {
   "cell_type": "markdown",
   "metadata": {},
   "source": [
    "### Checking Account Status for WoE"
   ]
  },
  {
   "cell_type": "code",
   "execution_count": 4,
   "metadata": {
    "collapsed": false
   },
   "outputs": [
    {
     "name": "stderr",
     "output_type": "stream",
     "text": [
      "Warning message in par(mfrow = c(1, 2), new = TRUE):\n",
      "“calling par(new=TRUE) with no plot”"
     ]
    },
    {
     "data": {
      "image/png": "[encoded data removed]",
      "text/plain": [
       "Plot with title “Score:Checking Account Status”"
      ]
     },
     "metadata": {},
     "output_type": "display_data"
    }
   ],
   "source": [
    "A1 <- gbpct(r2$Status.of.existing.checking.account,r2$Default_status)\n",
    "\n",
    "options(repr.plot.width=9, repr.plot.height=5)\n",
    "op1<-par(mfrow=c(1,2), new=TRUE)\n",
    "\n",
    "plot(r2$Status.of.existing.checking.account, r2$Default_status,\n",
    "ylab=\"Good-Bad\", xlab=\"Status.of.existing.checking.account\",\n",
    "main=\"Checking Account Status ~ Good-Bad \")\n",
    "\n",
    "barplot(A1$WOE, col=\"brown\", names.arg=c(A1$Levels),\n",
    "main=\"Score:Checking Account Status\",\n",
    "xlab=\"Category\",\n",
    "ylab=\"WOE\",\n",
    ")"
   ]
  },
  {
   "cell_type": "markdown",
   "metadata": {},
   "source": [
    "WoE for Account Status 'A11' (Status.of.exisiting.checking.account) calculated below"
   ]
  },
  {
   "cell_type": "code",
   "execution_count": 5,
   "metadata": {
    "collapsed": false
   },
   "outputs": [
    {
     "data": {
      "text/html": [
       "-8.18"
      ],
      "text/latex": [
       "-8.18"
      ],
      "text/markdown": [
       "-8.18"
      ],
      "text/plain": [
       "[1] -8.18"
      ]
     },
     "metadata": {},
     "output_type": "display_data"
    }
   ],
   "source": [
    "goodPc <- dim(r2[r2$Default_status=='Good' & r2$Status.of.existing.checking.account=='A11',])[1]/dim(r2[r2$Default_status=='Good',])[1]\n",
    "badPc <- dim(r2[r2$Default_status=='Bad' & r2$Status.of.existing.checking.account=='A11',])[1]/dim(r2[r2$Default_status=='Bad',])[1]\n",
    "#goodPc; badPc\n",
    "WoE <- log(goodPc/badPc)*10\n",
    "round(WoE,2)"
   ]
  },
  {
   "cell_type": "markdown",
   "metadata": {},
   "source": [
    "---\n",
    "### Information Value(IV)\n",
    "\n",
    "IV helps to select variables by using their order of importance w.r.to information value after grouping.\n",
    "\\begin{equation} \\text{IV} = \\sum \\left( \\text{% Non-events}-\\text{% Events} \\right)* WoE\\end{equation}"
   ]
  },
  {
   "cell_type": "markdown",
   "metadata": {},
   "source": [
    "IV (Information Value) for Account Status 'A11' calculated below"
   ]
  },
  {
   "cell_type": "code",
   "execution_count": 6,
   "metadata": {
    "collapsed": false
   },
   "outputs": [
    {
     "data": {
      "text/html": [
       "20.57"
      ],
      "text/latex": [
       "20.57"
      ],
      "text/markdown": [
       "20.57"
      ],
      "text/plain": [
       "[1] 20.57"
      ]
     },
     "metadata": {},
     "output_type": "display_data"
    }
   ],
   "source": [
    "pcGood <- 100*goodPc\n",
    "pcBad <- 100*badPc\n",
    "IV <- (pcGood-pcBad)*WoE/10\n",
    "round(IV,2)"
   ]
  },
  {
   "cell_type": "markdown",
   "metadata": {},
   "source": [
    "---\n",
    "### Efficiency\n",
    "\\begin{equation}  \\text{Efficiency} = \\text{Abs} \\left( \\text{% Non-events}- \\text{% Events} \\right)/2       \\end{equation} \n"
   ]
  },
  {
   "cell_type": "markdown",
   "metadata": {},
   "source": [
    "We may split the data (given population) into random samples with 50-50, 60-40 or 70-30 ratios for Training (Development\n",
    "Sample on which model will be developed or trained) and Test (validation/holdout sample on which model will be tested)\n",
    "based on population size. In this workshop session we will split the sample into 70-30. \n",
    "\n",
    "Stratified random sampling is a method of sampling that involves the division of a population into smaller groups known as strata. In stratified random sampling, the strata are formed based on members’ shared attributes or characteristics. \n",
    "\n",
    "In our case we will use good_bad as strata and partition data into 70%-30% as train and test sets. You may also\n",
    "split them into 60-40 or 50-50 ratio."
   ]
  },
  {
   "cell_type": "code",
   "execution_count": 7,
   "metadata": {
    "collapsed": false
   },
   "outputs": [
    {
     "data": {
      "text/html": [
       "<table>\n",
       "<thead><tr><th scope=col>Names</th><th scope=col>Good</th><th scope=col>Bad</th><th scope=col>Good_pct</th><th scope=col>Bad_pct</th><th scope=col>Total</th><th scope=col>Total_Pct</th><th scope=col>Bad_Rate</th><th scope=col>grp_score</th><th scope=col>WOE</th><th scope=col>IV</th><th scope=col>Efficiency</th></tr></thead>\n",
       "<tbody>\n",
       "\t<tr><td>A11     </td><td>139     </td><td>135     </td><td>19.86   </td><td>45.00   </td><td>274     </td><td>27.4    </td><td>49.27   </td><td>3.06    </td><td>-8.18   </td><td>20.56452</td><td>12.570  </td></tr>\n",
       "\t<tr><td>A12     </td><td>164     </td><td>105     </td><td>23.43   </td><td>35.00   </td><td>269     </td><td>26.9    </td><td>39.03   </td><td>4.01    </td><td>-4.01   </td><td> 4.63957</td><td> 5.785  </td></tr>\n",
       "\t<tr><td>A13     </td><td> 49     </td><td> 14     </td><td> 7.00   </td><td> 4.67   </td><td> 63     </td><td> 6.3    </td><td>22.22   </td><td>6.00    </td><td> 4.05   </td><td> 0.94365</td><td> 1.165  </td></tr>\n",
       "\t<tr><td>A14     </td><td>348     </td><td> 46     </td><td>49.71   </td><td>15.33   </td><td>394     </td><td>39.4    </td><td>11.68   </td><td>7.64    </td><td>11.76   </td><td>40.43088</td><td>17.190  </td></tr>\n",
       "</tbody>\n",
       "</table>\n"
      ],
      "text/latex": [
       "\\begin{tabular}{r|llllllllllll}\n",
       " Names & Good & Bad & Good\\_pct & Bad\\_pct & Total & Total\\_Pct & Bad\\_Rate & grp\\_score & WOE & IV & Efficiency\\\\\n",
       "\\hline\n",
       "\t A11      & 139      & 135      & 19.86    & 45.00    & 274      & 27.4     & 49.27    & 3.06     & -8.18    & 20.56452 & 12.570  \\\\\n",
       "\t A12      & 164      & 105      & 23.43    & 35.00    & 269      & 26.9     & 39.03    & 4.01     & -4.01    &  4.63957 &  5.785  \\\\\n",
       "\t A13      &  49      &  14      &  7.00    &  4.67    &  63      &  6.3     & 22.22    & 6.00     &  4.05    &  0.94365 &  1.165  \\\\\n",
       "\t A14      & 348      &  46      & 49.71    & 15.33    & 394      & 39.4     & 11.68    & 7.64     & 11.76    & 40.43088 & 17.190  \\\\\n",
       "\\end{tabular}\n"
      ],
      "text/markdown": [
       "\n",
       "Names | Good | Bad | Good_pct | Bad_pct | Total | Total_Pct | Bad_Rate | grp_score | WOE | IV | Efficiency | \n",
       "|---|---|---|---|\n",
       "| A11      | 139      | 135      | 19.86    | 45.00    | 274      | 27.4     | 49.27    | 3.06     | -8.18    | 20.56452 | 12.570   | \n",
       "| A12      | 164      | 105      | 23.43    | 35.00    | 269      | 26.9     | 39.03    | 4.01     | -4.01    |  4.63957 |  5.785   | \n",
       "| A13      |  49      |  14      |  7.00    |  4.67    |  63      |  6.3     | 22.22    | 6.00     |  4.05    |  0.94365 |  1.165   | \n",
       "| A14      | 348      |  46      | 49.71    | 15.33    | 394      | 39.4     | 11.68    | 7.64     | 11.76    | 40.43088 | 17.190   | \n",
       "\n",
       "\n"
      ],
      "text/plain": [
       "  Names Good Bad Good_pct Bad_pct Total Total_Pct Bad_Rate grp_score WOE  \n",
       "1 A11   139  135 19.86    45.00   274   27.4      49.27    3.06      -8.18\n",
       "2 A12   164  105 23.43    35.00   269   26.9      39.03    4.01      -4.01\n",
       "3 A13    49   14  7.00     4.67    63    6.3      22.22    6.00       4.05\n",
       "4 A14   348   46 49.71    15.33   394   39.4      11.68    7.64      11.76\n",
       "  IV       Efficiency\n",
       "1 20.56452 12.570    \n",
       "2  4.63957  5.785    \n",
       "3  0.94365  1.165    \n",
       "4 40.43088 17.190    "
      ]
     },
     "metadata": {},
     "output_type": "display_data"
    }
   ],
   "source": [
    "A1"
   ]
  },
  {
   "cell_type": "markdown",
   "metadata": {},
   "source": [
    "For Account Status  \n",
    "* Information Value is  $\\textbf{66.58}$\n",
    "* Efficiency is          $\\textbf{36.71}$"
   ]
  },
  {
   "cell_type": "markdown",
   "metadata": {},
   "source": [
    "---\n",
    "### Information Value(IV)\n",
    "\n",
    "IV helps to select variables by using their order of importance w.r.to information value after grouping.\n",
    "\\begin{equation} \\text{IV} = \\sum \\left( \\text{% Non-events}-\\text{% Events} \\right) * \\text{WoE} \\end{equation}"
   ]
  },
  {
   "cell_type": "markdown",
   "metadata": {},
   "source": [
    "---\n",
    "### Efficiency\n",
    "\\begin{equation}  \\text{Efficiency} = \\text{Abs} \\left( \\text{% Non-events}- \\text{% Events} \\right)/2       \\end{equation} \n"
   ]
  },
  {
   "cell_type": "markdown",
   "metadata": {},
   "source": [
    "We may split the data (given population) into random samples with 50-50, 60-40 or 70-30 ratios for Training (Development\n",
    "Sample on which model will be developed or trained) and Test (validation/holdout sample on which model will be tested)\n",
    "based on population size. In this workshop session we will split the sample into 70-30. \n",
    "\n",
    "Stratified random sampling is a method of sampling that involves the division of a population into smaller groups known as strata. In stratified random sampling, the strata are formed based on members’ shared attributes or characteristics. \n",
    "\n",
    "In our case we will use good_bad as strata and partition data into 70%-30% as train and test sets. You may also\n",
    "split them into 60-40 or 50-50 ratio."
   ]
  },
  {
   "cell_type": "code",
   "execution_count": 8,
   "metadata": {
    "collapsed": false
   },
   "outputs": [
    {
     "data": {
      "text/html": [
       "<table>\n",
       "<thead><tr><th></th><th scope=col>Count</th><th scope=col>Percentage</th></tr></thead>\n",
       "<tbody>\n",
       "\t<tr><th scope=row>Bad</th><td>210</td><td>30 </td></tr>\n",
       "\t<tr><th scope=row>Good</th><td>490</td><td>70 </td></tr>\n",
       "</tbody>\n",
       "</table>\n"
      ],
      "text/latex": [
       "\\begin{tabular}{r|ll}\n",
       "  & Count & Percentage\\\\\n",
       "\\hline\n",
       "\tBad & 210 & 30 \\\\\n",
       "\tGood & 490 & 70 \\\\\n",
       "\\end{tabular}\n"
      ],
      "text/markdown": [
       "\n",
       "| <!--/--> | Count | Percentage | \n",
       "|---|---|\n",
       "| Bad | 210 | 30  | \n",
       "| Good | 490 | 70  | \n",
       "\n",
       "\n"
      ],
      "text/plain": [
       "     Count Percentage\n",
       "Bad  210   30        \n",
       "Good 490   70        "
      ]
     },
     "metadata": {},
     "output_type": "display_data"
    }
   ],
   "source": [
    "div_part_1 <- createDataPartition(y = r2$Default_status, p = 0.7, list = F)\n",
    "set.seed(7)\n",
    "\n",
    "# Training Sample\n",
    "train_1 <- r2[div_part_1,] # 70% here\n",
    "pct(train_1$Default_status)"
   ]
  },
  {
   "cell_type": "code",
   "execution_count": 9,
   "metadata": {
    "collapsed": false
   },
   "outputs": [
    {
     "data": {
      "text/html": [
       "<table>\n",
       "<thead><tr><th></th><th scope=col>Count</th><th scope=col>Percentage</th></tr></thead>\n",
       "<tbody>\n",
       "\t<tr><th scope=row>Bad</th><td> 90</td><td>30 </td></tr>\n",
       "\t<tr><th scope=row>Good</th><td>210</td><td>70 </td></tr>\n",
       "</tbody>\n",
       "</table>\n"
      ],
      "text/latex": [
       "\\begin{tabular}{r|ll}\n",
       "  & Count & Percentage\\\\\n",
       "\\hline\n",
       "\tBad &  90 & 30 \\\\\n",
       "\tGood & 210 & 70 \\\\\n",
       "\\end{tabular}\n"
      ],
      "text/markdown": [
       "\n",
       "| <!--/--> | Count | Percentage | \n",
       "|---|---|\n",
       "| Bad |  90 | 30  | \n",
       "| Good | 210 | 70  | \n",
       "\n",
       "\n"
      ],
      "text/plain": [
       "     Count Percentage\n",
       "Bad   90   30        \n",
       "Good 210   70        "
      ]
     },
     "metadata": {},
     "output_type": "display_data"
    }
   ],
   "source": [
    "# Test Sample\n",
    "test_1 <- r2[-div_part_1,] # rest of the 30% data goes here\n",
    "pct(test_1$Default_status)"
   ]
  },
  {
   "cell_type": "code",
   "execution_count": 10,
   "metadata": {
    "collapsed": false
   },
   "outputs": [
    {
     "name": "stdout",
     "output_type": "stream",
     "text": [
      "Start:  AIC=700.67\n",
      "Default_status ~ Status.of.existing.checking.account + Duration.in.month + \n",
      "    Credit.history + Purpose + Credit.amount + Savings.account.bonds + \n",
      "    Present.employment.since. + Installment.rate.in.percentage.of.disposable.income + \n",
      "    Property + Age.in.Years\n",
      "\n",
      "                                                      Df Deviance    AIC\n",
      "- Property                                             3   638.51 696.51\n",
      "<none>                                                     636.67 700.67\n",
      "- Age.in.Years                                         1   639.26 701.26\n",
      "- Credit.amount                                        1   640.97 702.97\n",
      "- Duration.in.month                                    1   644.37 706.37\n",
      "- Installment.rate.in.percentage.of.disposable.income  1   644.77 706.77\n",
      "- Present.employment.since.                            4   651.44 707.44\n",
      "- Savings.account.bonds                                4   656.11 712.11\n",
      "- Credit.history                                       4   658.09 714.09\n",
      "- Purpose                                              9   671.17 717.17\n",
      "- Status.of.existing.checking.account                  3   686.67 744.67\n",
      "\n",
      "Step:  AIC=696.51\n",
      "Default_status ~ Status.of.existing.checking.account + Duration.in.month + \n",
      "    Credit.history + Purpose + Credit.amount + Savings.account.bonds + \n",
      "    Present.employment.since. + Installment.rate.in.percentage.of.disposable.income + \n",
      "    Age.in.Years\n",
      "\n",
      "                                                      Df Deviance    AIC\n",
      "<none>                                                     638.51 696.51\n",
      "- Age.in.Years                                         1   640.79 696.79\n",
      "- Credit.amount                                        1   643.81 699.81\n",
      "- Present.employment.since.                            4   652.60 702.60\n",
      "- Installment.rate.in.percentage.of.disposable.income  1   647.20 703.20\n",
      "- Duration.in.month                                    1   647.59 703.59\n",
      "- Savings.account.bonds                                4   658.48 708.48\n",
      "- Credit.history                                       4   661.93 711.93\n",
      "- Purpose                                              9   674.43 714.43\n",
      "- Status.of.existing.checking.account                  3   689.21 741.21\n"
     ]
    }
   ],
   "source": [
    "# Model: Stepwise Logistic Regression Model\n",
    "m1 <- glm(Default_status ~.,data=train_1,family=binomial())\n",
    "m1 <- step(m1)"
   ]
  },
  {
   "cell_type": "code",
   "execution_count": 11,
   "metadata": {
    "collapsed": false
   },
   "outputs": [
    {
     "data": {
      "text/plain": [
       "\n",
       "Call:\n",
       "glm(formula = Default_status ~ Status.of.existing.checking.account + \n",
       "    Duration.in.month + Credit.history + Purpose + Credit.amount + \n",
       "    Savings.account.bonds + Present.employment.since. + Installment.rate.in.percentage.of.disposable.income + \n",
       "    Age.in.Years, family = binomial(), data = train_1)\n",
       "\n",
       "Deviance Residuals: \n",
       "    Min       1Q   Median       3Q      Max  \n",
       "-2.6224  -0.7043   0.3832   0.7263   2.0586  \n",
       "\n",
       "Coefficients:\n",
       "                                                      Estimate Std. Error\n",
       "(Intercept)                                         -2.846e-01  8.460e-01\n",
       "Status.of.existing.checking.accountA12               4.939e-01  2.620e-01\n",
       "Status.of.existing.checking.accountA13               8.427e-01  4.075e-01\n",
       "Status.of.existing.checking.accountA14               1.815e+00  2.783e-01\n",
       "Duration.in.month                                   -3.235e-02  1.079e-02\n",
       "Credit.historyA31                                    1.447e-01  6.302e-01\n",
       "Credit.historyA32                                    8.141e-01  5.089e-01\n",
       "Credit.historyA33                                    5.342e-01  5.624e-01\n",
       "Credit.historyA34                                    1.707e+00  5.344e-01\n",
       "PurposeA41                                           1.871e+00  4.352e-01\n",
       "PurposeA410                                          1.206e+00  7.890e-01\n",
       "PurposeA42                                           7.528e-01  2.995e-01\n",
       "PurposeA43                                           1.174e+00  2.919e-01\n",
       "PurposeA44                                           4.451e-01  9.976e-01\n",
       "PurposeA45                                           1.001e+00  8.102e-01\n",
       "PurposeA46                                          -2.652e-01  4.499e-01\n",
       "PurposeA48                                           1.509e+00  1.173e+00\n",
       "PurposeA49                                           8.127e-01  3.845e-01\n",
       "Credit.amount                                       -1.114e-04  4.867e-05\n",
       "Savings.account.bondsA62                             2.483e-01  3.163e-01\n",
       "Savings.account.bondsA63                            -2.585e-01  4.240e-01\n",
       "Savings.account.bondsA64                             1.155e+00  5.626e-01\n",
       "Savings.account.bondsA65                             1.154e+00  3.125e-01\n",
       "Present.employment.since.A72                        -6.650e-01  4.754e-01\n",
       "Present.employment.since.A73                        -3.051e-01  4.428e-01\n",
       "Present.employment.since.A74                         6.064e-01  4.995e-01\n",
       "Present.employment.since.A75                        -3.562e-03  4.648e-01\n",
       "Installment.rate.in.percentage.of.disposable.income -2.880e-01  9.905e-02\n",
       "Age.in.Years                                         1.560e-02  1.046e-02\n",
       "                                                    z value Pr(>|z|)    \n",
       "(Intercept)                                          -0.336 0.736548    \n",
       "Status.of.existing.checking.accountA12                1.885 0.059377 .  \n",
       "Status.of.existing.checking.accountA13                2.068 0.038636 *  \n",
       "Status.of.existing.checking.accountA14                6.521 6.96e-11 ***\n",
       "Duration.in.month                                    -2.998 0.002714 ** \n",
       "Credit.historyA31                                     0.230 0.818364    \n",
       "Credit.historyA32                                     1.600 0.109670    \n",
       "Credit.historyA33                                     0.950 0.342154    \n",
       "Credit.historyA34                                     3.195 0.001400 ** \n",
       "PurposeA41                                            4.300 1.71e-05 ***\n",
       "PurposeA410                                           1.529 0.126288    \n",
       "PurposeA42                                            2.513 0.011957 *  \n",
       "PurposeA43                                            4.021 5.80e-05 ***\n",
       "PurposeA44                                            0.446 0.655459    \n",
       "PurposeA45                                            1.236 0.216425    \n",
       "PurposeA46                                           -0.590 0.555480    \n",
       "PurposeA48                                            1.286 0.198466    \n",
       "PurposeA49                                            2.114 0.034535 *  \n",
       "Credit.amount                                        -2.289 0.022053 *  \n",
       "Savings.account.bondsA62                              0.785 0.432367    \n",
       "Savings.account.bondsA63                             -0.610 0.541957    \n",
       "Savings.account.bondsA64                              2.053 0.040114 *  \n",
       "Savings.account.bondsA65                              3.694 0.000221 ***\n",
       "Present.employment.since.A72                         -1.399 0.161863    \n",
       "Present.employment.since.A73                         -0.689 0.490849    \n",
       "Present.employment.since.A74                          1.214 0.224688    \n",
       "Present.employment.since.A75                         -0.008 0.993886    \n",
       "Installment.rate.in.percentage.of.disposable.income  -2.907 0.003648 ** \n",
       "Age.in.Years                                          1.491 0.135861    \n",
       "---\n",
       "Signif. codes:  0 ‘***’ 0.001 ‘**’ 0.01 ‘*’ 0.05 ‘.’ 0.1 ‘ ’ 1\n",
       "\n",
       "(Dispersion parameter for binomial family taken to be 1)\n",
       "\n",
       "    Null deviance: 855.21  on 699  degrees of freedom\n",
       "Residual deviance: 638.51  on 671  degrees of freedom\n",
       "AIC: 696.51\n",
       "\n",
       "Number of Fisher Scoring iterations: 5\n"
      ]
     },
     "metadata": {},
     "output_type": "display_data"
    }
   ],
   "source": [
    "summary(m1)"
   ]
  },
  {
   "cell_type": "code",
   "execution_count": 12,
   "metadata": {
    "collapsed": false
   },
   "outputs": [
    {
     "data": {
      "text/html": [
       "<ol class=list-inline>\n",
       "\t<li>'Status.of.existing.checking.accountA14'</li>\n",
       "\t<li>'Duration.in.month'</li>\n",
       "\t<li>'Credit.historyA34'</li>\n",
       "\t<li>'PurposeA41'</li>\n",
       "\t<li>'PurposeA43'</li>\n",
       "\t<li>'Savings.account.bondsA65'</li>\n",
       "\t<li>'Installment.rate.in.percentage.of.disposable.income'</li>\n",
       "</ol>\n"
      ],
      "text/latex": [
       "\\begin{enumerate*}\n",
       "\\item 'Status.of.existing.checking.accountA14'\n",
       "\\item 'Duration.in.month'\n",
       "\\item 'Credit.historyA34'\n",
       "\\item 'PurposeA41'\n",
       "\\item 'PurposeA43'\n",
       "\\item 'Savings.account.bondsA65'\n",
       "\\item 'Installment.rate.in.percentage.of.disposable.income'\n",
       "\\end{enumerate*}\n"
      ],
      "text/markdown": [
       "1. 'Status.of.existing.checking.accountA14'\n",
       "2. 'Duration.in.month'\n",
       "3. 'Credit.historyA34'\n",
       "4. 'PurposeA41'\n",
       "5. 'PurposeA43'\n",
       "6. 'Savings.account.bondsA65'\n",
       "7. 'Installment.rate.in.percentage.of.disposable.income'\n",
       "\n",
       "\n"
      ],
      "text/plain": [
       "[1] \"Status.of.existing.checking.accountA14\"             \n",
       "[2] \"Duration.in.month\"                                  \n",
       "[3] \"Credit.historyA34\"                                  \n",
       "[4] \"PurposeA41\"                                         \n",
       "[5] \"PurposeA43\"                                         \n",
       "[6] \"Savings.account.bondsA65\"                           \n",
       "[7] \"Installment.rate.in.percentage.of.disposable.income\""
      ]
     },
     "metadata": {},
     "output_type": "display_data"
    },
    {
     "data": {
      "text/html": [
       "<table>\n",
       "<thead><tr><th></th><th scope=col>Estimate</th><th scope=col>Std. Error</th><th scope=col>z value</th><th scope=col>Pr(&gt;|z|)</th></tr></thead>\n",
       "<tbody>\n",
       "\t<tr><th scope=row>Status.of.existing.checking.accountA14</th><td> 1.81519906 </td><td>0.27834363  </td><td> 6.521432   </td><td>6.963929e-11</td></tr>\n",
       "\t<tr><th scope=row>Duration.in.month</th><td>-0.03234922 </td><td>0.01078887  </td><td>-2.998387   </td><td>2.714125e-03</td></tr>\n",
       "\t<tr><th scope=row>Credit.historyA34</th><td> 1.70732719 </td><td>0.53444882  </td><td> 3.194557   </td><td>1.400457e-03</td></tr>\n",
       "\t<tr><th scope=row>PurposeA41</th><td> 1.87133582 </td><td>0.43519626  </td><td> 4.299981   </td><td>1.708124e-05</td></tr>\n",
       "\t<tr><th scope=row>PurposeA43</th><td> 1.17357917 </td><td>0.29187186  </td><td> 4.020871   </td><td>5.798329e-05</td></tr>\n",
       "\t<tr><th scope=row>Savings.account.bondsA65</th><td> 1.15413675 </td><td>0.31247076  </td><td> 3.693583   </td><td>2.211162e-04</td></tr>\n",
       "\t<tr><th scope=row>Installment.rate.in.percentage.of.disposable.income</th><td>-0.28795678 </td><td>0.09905192  </td><td>-2.907130   </td><td>3.647620e-03</td></tr>\n",
       "</tbody>\n",
       "</table>\n"
      ],
      "text/latex": [
       "\\begin{tabular}{r|llll}\n",
       "  & Estimate & Std. Error & z value & Pr(>\\textbar{}z\\textbar{})\\\\\n",
       "\\hline\n",
       "\tStatus.of.existing.checking.accountA14 &  1.81519906  & 0.27834363   &  6.521432    & 6.963929e-11\\\\\n",
       "\tDuration.in.month & -0.03234922  & 0.01078887   & -2.998387    & 2.714125e-03\\\\\n",
       "\tCredit.historyA34 &  1.70732719  & 0.53444882   &  3.194557    & 1.400457e-03\\\\\n",
       "\tPurposeA41 &  1.87133582  & 0.43519626   &  4.299981    & 1.708124e-05\\\\\n",
       "\tPurposeA43 &  1.17357917  & 0.29187186   &  4.020871    & 5.798329e-05\\\\\n",
       "\tSavings.account.bondsA65 &  1.15413675  & 0.31247076   &  3.693583    & 2.211162e-04\\\\\n",
       "\tInstallment.rate.in.percentage.of.disposable.income & -0.28795678  & 0.09905192   & -2.907130    & 3.647620e-03\\\\\n",
       "\\end{tabular}\n"
      ],
      "text/markdown": [
       "\n",
       "| <!--/--> | Estimate | Std. Error | z value | Pr(>|z|) | \n",
       "|---|---|---|---|---|---|---|\n",
       "| Status.of.existing.checking.accountA14 |  1.81519906  | 0.27834363   |  6.521432    | 6.963929e-11 | \n",
       "| Duration.in.month | -0.03234922  | 0.01078887   | -2.998387    | 2.714125e-03 | \n",
       "| Credit.historyA34 |  1.70732719  | 0.53444882   |  3.194557    | 1.400457e-03 | \n",
       "| PurposeA41 |  1.87133582  | 0.43519626   |  4.299981    | 1.708124e-05 | \n",
       "| PurposeA43 |  1.17357917  | 0.29187186   |  4.020871    | 5.798329e-05 | \n",
       "| Savings.account.bondsA65 |  1.15413675  | 0.31247076   |  3.693583    | 2.211162e-04 | \n",
       "| Installment.rate.in.percentage.of.disposable.income | -0.28795678  | 0.09905192   | -2.907130    | 3.647620e-03 | \n",
       "\n",
       "\n"
      ],
      "text/plain": [
       "                                                    Estimate    Std. Error\n",
       "Status.of.existing.checking.accountA14               1.81519906 0.27834363\n",
       "Duration.in.month                                   -0.03234922 0.01078887\n",
       "Credit.historyA34                                    1.70732719 0.53444882\n",
       "PurposeA41                                           1.87133582 0.43519626\n",
       "PurposeA43                                           1.17357917 0.29187186\n",
       "Savings.account.bondsA65                             1.15413675 0.31247076\n",
       "Installment.rate.in.percentage.of.disposable.income -0.28795678 0.09905192\n",
       "                                                    z value   Pr(>|z|)    \n",
       "Status.of.existing.checking.accountA14               6.521432 6.963929e-11\n",
       "Duration.in.month                                   -2.998387 2.714125e-03\n",
       "Credit.historyA34                                    3.194557 1.400457e-03\n",
       "PurposeA41                                           4.299981 1.708124e-05\n",
       "PurposeA43                                           4.020871 5.798329e-05\n",
       "Savings.account.bondsA65                             3.693583 2.211162e-04\n",
       "Installment.rate.in.percentage.of.disposable.income -2.907130 3.647620e-03"
      ]
     },
     "metadata": {},
     "output_type": "display_data"
    }
   ],
   "source": [
    "# List of significant variables and features with p-value <0.01\n",
    "\n",
    "significant.variables <- summary(m1)$coeff[-1,4] < 0.01\n",
    "names(significant.variables)[significant.variables == TRUE]\n",
    "summary(m1)$coeff[row.names(summary(m1)$coeff) %in% names(significant.variables)[significant.variables == TRUE],]"
   ]
  },
  {
   "cell_type": "code",
   "execution_count": 13,
   "metadata": {
    "collapsed": false
   },
   "outputs": [
    {
     "data": {
      "text/html": [
       "<table>\n",
       "<thead><tr><th></th><th scope=col>prob</th><th scope=col>res</th></tr></thead>\n",
       "<tbody>\n",
       "\t<tr><th scope=row>1</th><td>0.9649701 </td><td> 0.2670511</td></tr>\n",
       "\t<tr><th scope=row>2</th><td>0.3643078 </td><td>-0.9518833</td></tr>\n",
       "\t<tr><th scope=row>5</th><td>0.1959855 </td><td>-0.6605119</td></tr>\n",
       "\t<tr><th scope=row>6</th><td>0.6737132 </td><td> 0.8887640</td></tr>\n",
       "\t<tr><th scope=row>9</th><td>0.9927982 </td><td> 0.1202317</td></tr>\n",
       "\t<tr><th scope=row>11</th><td>0.3434424 </td><td>-0.9173275</td></tr>\n",
       "</tbody>\n",
       "</table>\n"
      ],
      "text/latex": [
       "\\begin{tabular}{r|ll}\n",
       "  & prob & res\\\\\n",
       "\\hline\n",
       "\t1 & 0.9649701  &  0.2670511\\\\\n",
       "\t2 & 0.3643078  & -0.9518833\\\\\n",
       "\t5 & 0.1959855  & -0.6605119\\\\\n",
       "\t6 & 0.6737132  &  0.8887640\\\\\n",
       "\t9 & 0.9927982  &  0.1202317\\\\\n",
       "\t11 & 0.3434424  & -0.9173275\\\\\n",
       "\\end{tabular}\n"
      ],
      "text/markdown": [
       "\n",
       "| <!--/--> | prob | res | \n",
       "|---|---|---|---|---|---|\n",
       "| 1 | 0.9649701  |  0.2670511 | \n",
       "| 2 | 0.3643078  | -0.9518833 | \n",
       "| 5 | 0.1959855  | -0.6605119 | \n",
       "| 6 | 0.6737132  |  0.8887640 | \n",
       "| 9 | 0.9927982  |  0.1202317 | \n",
       "| 11 | 0.3434424  | -0.9173275 | \n",
       "\n",
       "\n"
      ],
      "text/plain": [
       "   prob      res       \n",
       "1  0.9649701  0.2670511\n",
       "2  0.3643078 -0.9518833\n",
       "5  0.1959855 -0.6605119\n",
       "6  0.6737132  0.8887640\n",
       "9  0.9927982  0.1202317\n",
       "11 0.3434424 -0.9173275"
      ]
     },
     "metadata": {},
     "output_type": "display_data"
    },
    {
     "data": {},
     "metadata": {},
     "output_type": "display_data"
    },
    {
     "data": {
      "image/png": "[encoded data removed]",
      "text/plain": [
       "plot without title"
      ]
     },
     "metadata": {},
     "output_type": "display_data"
    }
   ],
   "source": [
    "prob <- predict(m1, type = \"response\")\n",
    "res <- residuals(m1, type = \"deviance\")\n",
    "head(cbind(prob,res))\n",
    "options(repr.plot.width=6, repr.plot.height=4.5)\n",
    "#Plot Residuals\n",
    "#plot(predict(m1), res, xlab=\"Fitted values\", ylab = \"Residuals\", ylim = max(abs(res)) * c(-1,1))\n",
    "qplot(predict(m1), res, ylab=\"Residual\", xlab=\"Fitted values\", xlim=c(-5,6))"
   ]
  },
  {
   "cell_type": "code",
   "execution_count": 14,
   "metadata": {
    "collapsed": false,
    "scrolled": true
   },
   "outputs": [
    {
     "name": "stderr",
     "output_type": "stream",
     "text": [
      "Waiting for profiling to be done...\n"
     ]
    },
    {
     "data": {
      "text/html": [
       "<table>\n",
       "<thead><tr><th></th><th scope=col>2.5 %</th><th scope=col>97.5 %</th></tr></thead>\n",
       "<tbody>\n",
       "\t<tr><th scope=row>(Intercept)</th><td>-1.9556008371</td><td> 1.370287e+00</td></tr>\n",
       "\t<tr><th scope=row>Status.of.existing.checking.accountA12</th><td>-0.0173986332</td><td> 1.010990e+00</td></tr>\n",
       "\t<tr><th scope=row>Status.of.existing.checking.accountA13</th><td> 0.0629109616</td><td> 1.668770e+00</td></tr>\n",
       "\t<tr><th scope=row>Status.of.existing.checking.accountA14</th><td> 1.2796608797</td><td> 2.373010e+00</td></tr>\n",
       "\t<tr><th scope=row>Duration.in.month</th><td>-0.0537205932</td><td>-1.130606e-02</td></tr>\n",
       "\t<tr><th scope=row>Credit.historyA31</th><td>-1.0836932595</td><td> 1.400081e+00</td></tr>\n",
       "\t<tr><th scope=row>Credit.historyA32</th><td>-0.1636723312</td><td> 1.846495e+00</td></tr>\n",
       "\t<tr><th scope=row>Credit.historyA33</th><td>-0.5485943803</td><td> 1.669029e+00</td></tr>\n",
       "\t<tr><th scope=row>Credit.historyA34</th><td> 0.6824711960</td><td> 2.790529e+00</td></tr>\n",
       "\t<tr><th scope=row>PurposeA41</th><td> 1.0496992553</td><td> 2.763901e+00</td></tr>\n",
       "\t<tr><th scope=row>PurposeA410</th><td>-0.3040682432</td><td> 2.854000e+00</td></tr>\n",
       "\t<tr><th scope=row>PurposeA42</th><td> 0.1709437449</td><td> 1.347035e+00</td></tr>\n",
       "\t<tr><th scope=row>PurposeA43</th><td> 0.6080953086</td><td> 1.754226e+00</td></tr>\n",
       "\t<tr><th scope=row>PurposeA44</th><td>-1.4434764972</td><td> 2.617125e+00</td></tr>\n",
       "\t<tr><th scope=row>PurposeA45</th><td>-0.5079583602</td><td> 2.737978e+00</td></tr>\n",
       "\t<tr><th scope=row>PurposeA46</th><td>-1.1514935904</td><td> 6.185534e-01</td></tr>\n",
       "\t<tr><th scope=row>PurposeA48</th><td>-0.5209476076</td><td> 4.543809e+00</td></tr>\n",
       "\t<tr><th scope=row>PurposeA49</th><td> 0.0705877414</td><td> 1.581433e+00</td></tr>\n",
       "\t<tr><th scope=row>Credit.amount</th><td>-0.0002082593</td><td>-1.654922e-05</td></tr>\n",
       "\t<tr><th scope=row>Savings.account.bondsA62</th><td>-0.3641152674</td><td> 8.792683e-01</td></tr>\n",
       "\t<tr><th scope=row>Savings.account.bondsA63</th><td>-1.0633132789</td><td> 6.130728e-01</td></tr>\n",
       "\t<tr><th scope=row>Savings.account.bondsA64</th><td> 0.1237233868</td><td> 2.364388e+00</td></tr>\n",
       "\t<tr><th scope=row>Savings.account.bondsA65</th><td> 0.5593434116</td><td> 1.788293e+00</td></tr>\n",
       "\t<tr><th scope=row>Present.employment.since.A72</th><td>-1.6130717077</td><td> 2.587916e-01</td></tr>\n",
       "\t<tr><th scope=row>Present.employment.since.A73</th><td>-1.1919315971</td><td> 5.530757e-01</td></tr>\n",
       "\t<tr><th scope=row>Present.employment.since.A74</th><td>-0.3801154287</td><td> 1.586597e+00</td></tr>\n",
       "\t<tr><th scope=row>Present.employment.since.A75</th><td>-0.9347176715</td><td> 8.953393e-01</td></tr>\n",
       "\t<tr><th scope=row>Installment.rate.in.percentage.of.disposable.income</th><td>-0.4847228209</td><td>-9.577773e-02</td></tr>\n",
       "\t<tr><th scope=row>Age.in.Years</th><td>-0.0046100177</td><td> 3.648455e-02</td></tr>\n",
       "</tbody>\n",
       "</table>\n"
      ],
      "text/latex": [
       "\\begin{tabular}{r|ll}\n",
       "  & 2.5 \\% & 97.5 \\%\\\\\n",
       "\\hline\n",
       "\t(Intercept) & -1.9556008371 &  1.370287e+00\\\\\n",
       "\tStatus.of.existing.checking.accountA12 & -0.0173986332 &  1.010990e+00\\\\\n",
       "\tStatus.of.existing.checking.accountA13 &  0.0629109616 &  1.668770e+00\\\\\n",
       "\tStatus.of.existing.checking.accountA14 &  1.2796608797 &  2.373010e+00\\\\\n",
       "\tDuration.in.month & -0.0537205932 & -1.130606e-02\\\\\n",
       "\tCredit.historyA31 & -1.0836932595 &  1.400081e+00\\\\\n",
       "\tCredit.historyA32 & -0.1636723312 &  1.846495e+00\\\\\n",
       "\tCredit.historyA33 & -0.5485943803 &  1.669029e+00\\\\\n",
       "\tCredit.historyA34 &  0.6824711960 &  2.790529e+00\\\\\n",
       "\tPurposeA41 &  1.0496992553 &  2.763901e+00\\\\\n",
       "\tPurposeA410 & -0.3040682432 &  2.854000e+00\\\\\n",
       "\tPurposeA42 &  0.1709437449 &  1.347035e+00\\\\\n",
       "\tPurposeA43 &  0.6080953086 &  1.754226e+00\\\\\n",
       "\tPurposeA44 & -1.4434764972 &  2.617125e+00\\\\\n",
       "\tPurposeA45 & -0.5079583602 &  2.737978e+00\\\\\n",
       "\tPurposeA46 & -1.1514935904 &  6.185534e-01\\\\\n",
       "\tPurposeA48 & -0.5209476076 &  4.543809e+00\\\\\n",
       "\tPurposeA49 &  0.0705877414 &  1.581433e+00\\\\\n",
       "\tCredit.amount & -0.0002082593 & -1.654922e-05\\\\\n",
       "\tSavings.account.bondsA62 & -0.3641152674 &  8.792683e-01\\\\\n",
       "\tSavings.account.bondsA63 & -1.0633132789 &  6.130728e-01\\\\\n",
       "\tSavings.account.bondsA64 &  0.1237233868 &  2.364388e+00\\\\\n",
       "\tSavings.account.bondsA65 &  0.5593434116 &  1.788293e+00\\\\\n",
       "\tPresent.employment.since.A72 & -1.6130717077 &  2.587916e-01\\\\\n",
       "\tPresent.employment.since.A73 & -1.1919315971 &  5.530757e-01\\\\\n",
       "\tPresent.employment.since.A74 & -0.3801154287 &  1.586597e+00\\\\\n",
       "\tPresent.employment.since.A75 & -0.9347176715 &  8.953393e-01\\\\\n",
       "\tInstallment.rate.in.percentage.of.disposable.income & -0.4847228209 & -9.577773e-02\\\\\n",
       "\tAge.in.Years & -0.0046100177 &  3.648455e-02\\\\\n",
       "\\end{tabular}\n"
      ],
      "text/markdown": [
       "\n",
       "| <!--/--> | 2.5 % | 97.5 % | \n",
       "|---|---|---|---|---|---|---|---|---|---|---|---|---|---|---|---|---|---|---|---|---|---|---|---|---|---|---|---|---|\n",
       "| (Intercept) | -1.9556008371 |  1.370287e+00 | \n",
       "| Status.of.existing.checking.accountA12 | -0.0173986332 |  1.010990e+00 | \n",
       "| Status.of.existing.checking.accountA13 |  0.0629109616 |  1.668770e+00 | \n",
       "| Status.of.existing.checking.accountA14 |  1.2796608797 |  2.373010e+00 | \n",
       "| Duration.in.month | -0.0537205932 | -1.130606e-02 | \n",
       "| Credit.historyA31 | -1.0836932595 |  1.400081e+00 | \n",
       "| Credit.historyA32 | -0.1636723312 |  1.846495e+00 | \n",
       "| Credit.historyA33 | -0.5485943803 |  1.669029e+00 | \n",
       "| Credit.historyA34 |  0.6824711960 |  2.790529e+00 | \n",
       "| PurposeA41 |  1.0496992553 |  2.763901e+00 | \n",
       "| PurposeA410 | -0.3040682432 |  2.854000e+00 | \n",
       "| PurposeA42 |  0.1709437449 |  1.347035e+00 | \n",
       "| PurposeA43 |  0.6080953086 |  1.754226e+00 | \n",
       "| PurposeA44 | -1.4434764972 |  2.617125e+00 | \n",
       "| PurposeA45 | -0.5079583602 |  2.737978e+00 | \n",
       "| PurposeA46 | -1.1514935904 |  6.185534e-01 | \n",
       "| PurposeA48 | -0.5209476076 |  4.543809e+00 | \n",
       "| PurposeA49 |  0.0705877414 |  1.581433e+00 | \n",
       "| Credit.amount | -0.0002082593 | -1.654922e-05 | \n",
       "| Savings.account.bondsA62 | -0.3641152674 |  8.792683e-01 | \n",
       "| Savings.account.bondsA63 | -1.0633132789 |  6.130728e-01 | \n",
       "| Savings.account.bondsA64 |  0.1237233868 |  2.364388e+00 | \n",
       "| Savings.account.bondsA65 |  0.5593434116 |  1.788293e+00 | \n",
       "| Present.employment.since.A72 | -1.6130717077 |  2.587916e-01 | \n",
       "| Present.employment.since.A73 | -1.1919315971 |  5.530757e-01 | \n",
       "| Present.employment.since.A74 | -0.3801154287 |  1.586597e+00 | \n",
       "| Present.employment.since.A75 | -0.9347176715 |  8.953393e-01 | \n",
       "| Installment.rate.in.percentage.of.disposable.income | -0.4847228209 | -9.577773e-02 | \n",
       "| Age.in.Years | -0.0046100177 |  3.648455e-02 | \n",
       "\n",
       "\n"
      ],
      "text/plain": [
       "                                                    2.5 %         97.5 %       \n",
       "(Intercept)                                         -1.9556008371  1.370287e+00\n",
       "Status.of.existing.checking.accountA12              -0.0173986332  1.010990e+00\n",
       "Status.of.existing.checking.accountA13               0.0629109616  1.668770e+00\n",
       "Status.of.existing.checking.accountA14               1.2796608797  2.373010e+00\n",
       "Duration.in.month                                   -0.0537205932 -1.130606e-02\n",
       "Credit.historyA31                                   -1.0836932595  1.400081e+00\n",
       "Credit.historyA32                                   -0.1636723312  1.846495e+00\n",
       "Credit.historyA33                                   -0.5485943803  1.669029e+00\n",
       "Credit.historyA34                                    0.6824711960  2.790529e+00\n",
       "PurposeA41                                           1.0496992553  2.763901e+00\n",
       "PurposeA410                                         -0.3040682432  2.854000e+00\n",
       "PurposeA42                                           0.1709437449  1.347035e+00\n",
       "PurposeA43                                           0.6080953086  1.754226e+00\n",
       "PurposeA44                                          -1.4434764972  2.617125e+00\n",
       "PurposeA45                                          -0.5079583602  2.737978e+00\n",
       "PurposeA46                                          -1.1514935904  6.185534e-01\n",
       "PurposeA48                                          -0.5209476076  4.543809e+00\n",
       "PurposeA49                                           0.0705877414  1.581433e+00\n",
       "Credit.amount                                       -0.0002082593 -1.654922e-05\n",
       "Savings.account.bondsA62                            -0.3641152674  8.792683e-01\n",
       "Savings.account.bondsA63                            -1.0633132789  6.130728e-01\n",
       "Savings.account.bondsA64                             0.1237233868  2.364388e+00\n",
       "Savings.account.bondsA65                             0.5593434116  1.788293e+00\n",
       "Present.employment.since.A72                        -1.6130717077  2.587916e-01\n",
       "Present.employment.since.A73                        -1.1919315971  5.530757e-01\n",
       "Present.employment.since.A74                        -0.3801154287  1.586597e+00\n",
       "Present.employment.since.A75                        -0.9347176715  8.953393e-01\n",
       "Installment.rate.in.percentage.of.disposable.income -0.4847228209 -9.577773e-02\n",
       "Age.in.Years                                        -0.0046100177  3.648455e-02"
      ]
     },
     "metadata": {},
     "output_type": "display_data"
    }
   ],
   "source": [
    "## CIs using profiled log-likelihood\n",
    "confint(m1)"
   ]
  },
  {
   "cell_type": "code",
   "execution_count": 15,
   "metadata": {
    "collapsed": false
   },
   "outputs": [
    {
     "name": "stderr",
     "output_type": "stream",
     "text": [
      "Waiting for profiling to be done...\n"
     ]
    },
    {
     "data": {
      "text/html": [
       "<table>\n",
       "<thead><tr><th></th><th scope=col>OR</th><th scope=col>2.5 %</th><th scope=col>97.5 %</th></tr></thead>\n",
       "<tbody>\n",
       "\t<tr><th scope=row>(Intercept)</th><td>0.7523032 </td><td>0.1414794 </td><td> 3.9364812</td></tr>\n",
       "\t<tr><th scope=row>Status.of.existing.checking.accountA12</th><td>1.6386718 </td><td>0.9827518 </td><td> 2.7483208</td></tr>\n",
       "\t<tr><th scope=row>Status.of.existing.checking.accountA13</th><td>2.3226303 </td><td>1.0649320 </td><td> 5.3056357</td></tr>\n",
       "\t<tr><th scope=row>Status.of.existing.checking.accountA14</th><td>6.1422987 </td><td>3.5954202 </td><td>10.7296415</td></tr>\n",
       "\t<tr><th scope=row>Duration.in.month</th><td>0.9681684 </td><td>0.9476969 </td><td> 0.9887576</td></tr>\n",
       "\t<tr><th scope=row>Credit.historyA31</th><td>1.1557134 </td><td>0.3383436 </td><td> 4.0555289</td></tr>\n",
       "\t<tr><th scope=row>Credit.historyA32</th><td>2.2571328 </td><td>0.8490202 </td><td> 6.3375688</td></tr>\n",
       "\t<tr><th scope=row>Credit.historyA33</th><td>1.7061005 </td><td>0.5777614 </td><td> 5.3070115</td></tr>\n",
       "\t<tr><th scope=row>Credit.historyA34</th><td>5.5142034 </td><td>1.9787616 </td><td>16.2896346</td></tr>\n",
       "\t<tr><th scope=row>PurposeA41</th><td>6.4969694 </td><td>2.8567918 </td><td>15.8615948</td></tr>\n",
       "\t<tr><th scope=row>PurposeA410</th><td>3.3412138 </td><td>0.7378105 </td><td>17.3570690</td></tr>\n",
       "\t<tr><th scope=row>PurposeA42</th><td>2.1228516 </td><td>1.1864240 </td><td> 3.8460040</td></tr>\n",
       "\t<tr><th scope=row>PurposeA43</th><td>3.2335453 </td><td>1.8369293 </td><td> 5.7789757</td></tr>\n",
       "\t<tr><th scope=row>PurposeA44</th><td>1.5607018 </td><td>0.2361055 </td><td>13.6962900</td></tr>\n",
       "\t<tr><th scope=row>PurposeA45</th><td>2.7222881 </td><td>0.6017228 </td><td>15.4556953</td></tr>\n",
       "\t<tr><th scope=row>PurposeA46</th><td>0.7670228 </td><td>0.3161642 </td><td> 1.8562408</td></tr>\n",
       "\t<tr><th scope=row>PurposeA48</th><td>4.5218620 </td><td>0.5939574 </td><td>94.0483188</td></tr>\n",
       "\t<tr><th scope=row>PurposeA49</th><td>2.2539294 </td><td>1.0731387 </td><td> 4.8619178</td></tr>\n",
       "\t<tr><th scope=row>Credit.amount</th><td>0.9998886 </td><td>0.9997918 </td><td> 0.9999835</td></tr>\n",
       "\t<tr><th scope=row>Savings.account.bondsA62</th><td>1.2818957 </td><td>0.6948111 </td><td> 2.4091363</td></tr>\n",
       "\t<tr><th scope=row>Savings.account.bondsA63</th><td>0.7721709 </td><td>0.3453098 </td><td> 1.8460954</td></tr>\n",
       "\t<tr><th scope=row>Savings.account.bondsA64</th><td>3.1736064 </td><td>1.1317028 </td><td>10.6375272</td></tr>\n",
       "\t<tr><th scope=row>Savings.account.bondsA65</th><td>3.1712846 </td><td>1.7495234 </td><td> 5.9792393</td></tr>\n",
       "\t<tr><th scope=row>Present.employment.since.A72</th><td>0.5142747 </td><td>0.1992746 </td><td> 1.2953638</td></tr>\n",
       "\t<tr><th scope=row>Present.employment.since.A73</th><td>0.7370781 </td><td>0.3036342 </td><td> 1.7385922</td></tr>\n",
       "\t<tr><th scope=row>Present.employment.since.A74</th><td>1.8338783 </td><td>0.6837825 </td><td> 4.8870899</td></tr>\n",
       "\t<tr><th scope=row>Present.employment.since.A75</th><td>0.9964446 </td><td>0.3926967 </td><td> 2.4481663</td></tr>\n",
       "\t<tr><th scope=row>Installment.rate.in.percentage.of.disposable.income</th><td>0.7497940 </td><td>0.6158679 </td><td> 0.9086660</td></tr>\n",
       "\t<tr><th scope=row>Age.in.Years</th><td>1.0157225 </td><td>0.9954006 </td><td> 1.0371583</td></tr>\n",
       "</tbody>\n",
       "</table>\n"
      ],
      "text/latex": [
       "\\begin{tabular}{r|lll}\n",
       "  & OR & 2.5 \\% & 97.5 \\%\\\\\n",
       "\\hline\n",
       "\t(Intercept) & 0.7523032  & 0.1414794  &  3.9364812\\\\\n",
       "\tStatus.of.existing.checking.accountA12 & 1.6386718  & 0.9827518  &  2.7483208\\\\\n",
       "\tStatus.of.existing.checking.accountA13 & 2.3226303  & 1.0649320  &  5.3056357\\\\\n",
       "\tStatus.of.existing.checking.accountA14 & 6.1422987  & 3.5954202  & 10.7296415\\\\\n",
       "\tDuration.in.month & 0.9681684  & 0.9476969  &  0.9887576\\\\\n",
       "\tCredit.historyA31 & 1.1557134  & 0.3383436  &  4.0555289\\\\\n",
       "\tCredit.historyA32 & 2.2571328  & 0.8490202  &  6.3375688\\\\\n",
       "\tCredit.historyA33 & 1.7061005  & 0.5777614  &  5.3070115\\\\\n",
       "\tCredit.historyA34 & 5.5142034  & 1.9787616  & 16.2896346\\\\\n",
       "\tPurposeA41 & 6.4969694  & 2.8567918  & 15.8615948\\\\\n",
       "\tPurposeA410 & 3.3412138  & 0.7378105  & 17.3570690\\\\\n",
       "\tPurposeA42 & 2.1228516  & 1.1864240  &  3.8460040\\\\\n",
       "\tPurposeA43 & 3.2335453  & 1.8369293  &  5.7789757\\\\\n",
       "\tPurposeA44 & 1.5607018  & 0.2361055  & 13.6962900\\\\\n",
       "\tPurposeA45 & 2.7222881  & 0.6017228  & 15.4556953\\\\\n",
       "\tPurposeA46 & 0.7670228  & 0.3161642  &  1.8562408\\\\\n",
       "\tPurposeA48 & 4.5218620  & 0.5939574  & 94.0483188\\\\\n",
       "\tPurposeA49 & 2.2539294  & 1.0731387  &  4.8619178\\\\\n",
       "\tCredit.amount & 0.9998886  & 0.9997918  &  0.9999835\\\\\n",
       "\tSavings.account.bondsA62 & 1.2818957  & 0.6948111  &  2.4091363\\\\\n",
       "\tSavings.account.bondsA63 & 0.7721709  & 0.3453098  &  1.8460954\\\\\n",
       "\tSavings.account.bondsA64 & 3.1736064  & 1.1317028  & 10.6375272\\\\\n",
       "\tSavings.account.bondsA65 & 3.1712846  & 1.7495234  &  5.9792393\\\\\n",
       "\tPresent.employment.since.A72 & 0.5142747  & 0.1992746  &  1.2953638\\\\\n",
       "\tPresent.employment.since.A73 & 0.7370781  & 0.3036342  &  1.7385922\\\\\n",
       "\tPresent.employment.since.A74 & 1.8338783  & 0.6837825  &  4.8870899\\\\\n",
       "\tPresent.employment.since.A75 & 0.9964446  & 0.3926967  &  2.4481663\\\\\n",
       "\tInstallment.rate.in.percentage.of.disposable.income & 0.7497940  & 0.6158679  &  0.9086660\\\\\n",
       "\tAge.in.Years & 1.0157225  & 0.9954006  &  1.0371583\\\\\n",
       "\\end{tabular}\n"
      ],
      "text/markdown": [
       "\n",
       "| <!--/--> | OR | 2.5 % | 97.5 % | \n",
       "|---|---|---|---|---|---|---|---|---|---|---|---|---|---|---|---|---|---|---|---|---|---|---|---|---|---|---|---|---|\n",
       "| (Intercept) | 0.7523032  | 0.1414794  |  3.9364812 | \n",
       "| Status.of.existing.checking.accountA12 | 1.6386718  | 0.9827518  |  2.7483208 | \n",
       "| Status.of.existing.checking.accountA13 | 2.3226303  | 1.0649320  |  5.3056357 | \n",
       "| Status.of.existing.checking.accountA14 | 6.1422987  | 3.5954202  | 10.7296415 | \n",
       "| Duration.in.month | 0.9681684  | 0.9476969  |  0.9887576 | \n",
       "| Credit.historyA31 | 1.1557134  | 0.3383436  |  4.0555289 | \n",
       "| Credit.historyA32 | 2.2571328  | 0.8490202  |  6.3375688 | \n",
       "| Credit.historyA33 | 1.7061005  | 0.5777614  |  5.3070115 | \n",
       "| Credit.historyA34 | 5.5142034  | 1.9787616  | 16.2896346 | \n",
       "| PurposeA41 | 6.4969694  | 2.8567918  | 15.8615948 | \n",
       "| PurposeA410 | 3.3412138  | 0.7378105  | 17.3570690 | \n",
       "| PurposeA42 | 2.1228516  | 1.1864240  |  3.8460040 | \n",
       "| PurposeA43 | 3.2335453  | 1.8369293  |  5.7789757 | \n",
       "| PurposeA44 | 1.5607018  | 0.2361055  | 13.6962900 | \n",
       "| PurposeA45 | 2.7222881  | 0.6017228  | 15.4556953 | \n",
       "| PurposeA46 | 0.7670228  | 0.3161642  |  1.8562408 | \n",
       "| PurposeA48 | 4.5218620  | 0.5939574  | 94.0483188 | \n",
       "| PurposeA49 | 2.2539294  | 1.0731387  |  4.8619178 | \n",
       "| Credit.amount | 0.9998886  | 0.9997918  |  0.9999835 | \n",
       "| Savings.account.bondsA62 | 1.2818957  | 0.6948111  |  2.4091363 | \n",
       "| Savings.account.bondsA63 | 0.7721709  | 0.3453098  |  1.8460954 | \n",
       "| Savings.account.bondsA64 | 3.1736064  | 1.1317028  | 10.6375272 | \n",
       "| Savings.account.bondsA65 | 3.1712846  | 1.7495234  |  5.9792393 | \n",
       "| Present.employment.since.A72 | 0.5142747  | 0.1992746  |  1.2953638 | \n",
       "| Present.employment.since.A73 | 0.7370781  | 0.3036342  |  1.7385922 | \n",
       "| Present.employment.since.A74 | 1.8338783  | 0.6837825  |  4.8870899 | \n",
       "| Present.employment.since.A75 | 0.9964446  | 0.3926967  |  2.4481663 | \n",
       "| Installment.rate.in.percentage.of.disposable.income | 0.7497940  | 0.6158679  |  0.9086660 | \n",
       "| Age.in.Years | 1.0157225  | 0.9954006  |  1.0371583 | \n",
       "\n",
       "\n"
      ],
      "text/plain": [
       "                                                    OR        2.5 %    \n",
       "(Intercept)                                         0.7523032 0.1414794\n",
       "Status.of.existing.checking.accountA12              1.6386718 0.9827518\n",
       "Status.of.existing.checking.accountA13              2.3226303 1.0649320\n",
       "Status.of.existing.checking.accountA14              6.1422987 3.5954202\n",
       "Duration.in.month                                   0.9681684 0.9476969\n",
       "Credit.historyA31                                   1.1557134 0.3383436\n",
       "Credit.historyA32                                   2.2571328 0.8490202\n",
       "Credit.historyA33                                   1.7061005 0.5777614\n",
       "Credit.historyA34                                   5.5142034 1.9787616\n",
       "PurposeA41                                          6.4969694 2.8567918\n",
       "PurposeA410                                         3.3412138 0.7378105\n",
       "PurposeA42                                          2.1228516 1.1864240\n",
       "PurposeA43                                          3.2335453 1.8369293\n",
       "PurposeA44                                          1.5607018 0.2361055\n",
       "PurposeA45                                          2.7222881 0.6017228\n",
       "PurposeA46                                          0.7670228 0.3161642\n",
       "PurposeA48                                          4.5218620 0.5939574\n",
       "PurposeA49                                          2.2539294 1.0731387\n",
       "Credit.amount                                       0.9998886 0.9997918\n",
       "Savings.account.bondsA62                            1.2818957 0.6948111\n",
       "Savings.account.bondsA63                            0.7721709 0.3453098\n",
       "Savings.account.bondsA64                            3.1736064 1.1317028\n",
       "Savings.account.bondsA65                            3.1712846 1.7495234\n",
       "Present.employment.since.A72                        0.5142747 0.1992746\n",
       "Present.employment.since.A73                        0.7370781 0.3036342\n",
       "Present.employment.since.A74                        1.8338783 0.6837825\n",
       "Present.employment.since.A75                        0.9964446 0.3926967\n",
       "Installment.rate.in.percentage.of.disposable.income 0.7497940 0.6158679\n",
       "Age.in.Years                                        1.0157225 0.9954006\n",
       "                                                    97.5 %    \n",
       "(Intercept)                                          3.9364812\n",
       "Status.of.existing.checking.accountA12               2.7483208\n",
       "Status.of.existing.checking.accountA13               5.3056357\n",
       "Status.of.existing.checking.accountA14              10.7296415\n",
       "Duration.in.month                                    0.9887576\n",
       "Credit.historyA31                                    4.0555289\n",
       "Credit.historyA32                                    6.3375688\n",
       "Credit.historyA33                                    5.3070115\n",
       "Credit.historyA34                                   16.2896346\n",
       "PurposeA41                                          15.8615948\n",
       "PurposeA410                                         17.3570690\n",
       "PurposeA42                                           3.8460040\n",
       "PurposeA43                                           5.7789757\n",
       "PurposeA44                                          13.6962900\n",
       "PurposeA45                                          15.4556953\n",
       "PurposeA46                                           1.8562408\n",
       "PurposeA48                                          94.0483188\n",
       "PurposeA49                                           4.8619178\n",
       "Credit.amount                                        0.9999835\n",
       "Savings.account.bondsA62                             2.4091363\n",
       "Savings.account.bondsA63                             1.8460954\n",
       "Savings.account.bondsA64                            10.6375272\n",
       "Savings.account.bondsA65                             5.9792393\n",
       "Present.employment.since.A72                         1.2953638\n",
       "Present.employment.since.A73                         1.7385922\n",
       "Present.employment.since.A74                         4.8870899\n",
       "Present.employment.since.A75                         2.4481663\n",
       "Installment.rate.in.percentage.of.disposable.income  0.9086660\n",
       "Age.in.Years                                         1.0371583"
      ]
     },
     "metadata": {},
     "output_type": "display_data"
    }
   ],
   "source": [
    "## odds ratios and 95% CI\n",
    "exp(cbind(OR = coef(m1), confint(m1)))"
   ]
  },
  {
   "cell_type": "code",
   "execution_count": 16,
   "metadata": {
    "collapsed": false
   },
   "outputs": [
    {
     "data": {
      "image/png": "[encoded data removed]",
      "text/plain": [
       "Plot with title “ROC m1: Logistic Regression Performance”"
      ]
     },
     "metadata": {},
     "output_type": "display_data"
    }
   ],
   "source": [
    "#score test data set\n",
    "test_1$m1_score <- predict(m1,type='response',test_1)\n",
    "m1_pred <- prediction(test_1$m1_score, test_1$Default_status)\n",
    "m1_perf <- performance(m1_pred,\"tpr\",\"fpr\")\n",
    "\n",
    "#ROC\n",
    "options(repr.plot.width=6, repr.plot.height=5)\n",
    "plot(m1_perf, lwd=2, colorize=TRUE, main=\"ROC m1: Logistic Regression Performance\", \n",
    "     xlab=\"False positive rate (Specificity)\", ylab=\"True positive rate (Sensitivity)\")\n",
    "lines(x=c(0, 1), y=c(0, 1), col=\"red\", lwd=1, lty=3);\n",
    "lines(x=c(1, 0), y=c(0, 1), col=\"green\", lwd=1, lty=4)"
   ]
  },
  {
   "cell_type": "code",
   "execution_count": 17,
   "metadata": {
    "collapsed": false
   },
   "outputs": [
    {
     "data": {
      "image/png": "[encoded data removed]",
      "text/plain": [
       "Plot with title “m1 Logistic:Accuracy as function of threshold”"
      ]
     },
     "metadata": {},
     "output_type": "display_data"
    }
   ],
   "source": [
    "# Plot accuracy as function of threshold\n",
    "m1_perf_acc <- performance(m1_pred, measure = \"acc\")\n",
    "plot(m1_perf_acc, main=\"m1 Logistic:Accuracy as function of threshold\")"
   ]
  },
  {
   "cell_type": "markdown",
   "metadata": {},
   "source": [
    "###  AUROC & Gini's measure\n",
    "* AUROC varies between 0.5 and 1, where 0.5 indicates chance classification and 1 indicates perfect classification\n",
    "* Gini's measure lies between 0 and 1"
   ]
  },
  {
   "cell_type": "code",
   "execution_count": 18,
   "metadata": {
    "collapsed": false
   },
   "outputs": [
    {
     "name": "stdout",
     "output_type": "stream",
     "text": [
      "AUROC:  76.71 \tGini: 53.42 \n"
     ]
    }
   ],
   "source": [
    "# Gini & AUC m1\n",
    "m1_AUROC <- round(performance(m1_pred, measure = \"auc\")@y.values[[1]]*100, 2)\n",
    "m1_Gini <- (2*m1_AUROC - 100)\n",
    "cat(\"AUROC: \",m1_AUROC,\"\\tGini:\", m1_Gini, \"\\n\")"
   ]
  },
  {
   "cell_type": "code",
   "execution_count": 44,
   "metadata": {
    "collapsed": false
   },
   "outputs": [
    {
     "data": {},
     "metadata": {},
     "output_type": "display_data"
    },
    {
     "data": {
      "image/png": "[encoded data removed]",
      "text/plain": [
       "plot without title"
      ]
     },
     "metadata": {},
     "output_type": "display_data"
    }
   ],
   "source": [
    "qplot(m1_pred@predictions[[1]], geom='histogram', bins=10, color=I(\"gray\"), ylab='Frequency', xlab='Predicted values', main='Histogram of predicted values')"
   ]
  },
  {
   "cell_type": "code",
   "execution_count": 39,
   "metadata": {
    "collapsed": false
   },
   "outputs": [
    {
     "data": {
      "text/html": [
       "0.2"
      ],
      "text/latex": [
       "0.2"
      ],
      "text/markdown": [
       "0.2"
      ],
      "text/plain": [
       "[1] 0.2"
      ]
     },
     "metadata": {},
     "output_type": "display_data"
    },
    {
     "data": {
      "text/html": [
       "72.67"
      ],
      "text/latex": [
       "72.67"
      ],
      "text/markdown": [
       "72.67"
      ],
      "text/plain": [
       "[1] 72.67"
      ]
     },
     "metadata": {},
     "output_type": "display_data"
    },
    {
     "data": {
      "text/plain": [
       "\n",
       " fn  fp  tn  tp \n",
       "  3  79  11 207 "
      ]
     },
     "metadata": {},
     "output_type": "display_data"
    },
    {
     "name": "stdout",
     "output_type": "stream",
     "text": [
      "------------------------"
     ]
    },
    {
     "data": {
      "text/html": [
       "0.3"
      ],
      "text/latex": [
       "0.3"
      ],
      "text/markdown": [
       "0.3"
      ],
      "text/plain": [
       "[1] 0.3"
      ]
     },
     "metadata": {},
     "output_type": "display_data"
    },
    {
     "data": {
      "text/html": [
       "74.67"
      ],
      "text/latex": [
       "74.67"
      ],
      "text/markdown": [
       "74.67"
      ],
      "text/plain": [
       "[1] 74.67"
      ]
     },
     "metadata": {},
     "output_type": "display_data"
    },
    {
     "data": {
      "text/plain": [
       "\n",
       " fn  fp  tn  tp \n",
       " 11  65  25 199 "
      ]
     },
     "metadata": {},
     "output_type": "display_data"
    },
    {
     "name": "stdout",
     "output_type": "stream",
     "text": [
      "------------------------"
     ]
    },
    {
     "data": {
      "text/html": [
       "0.8"
      ],
      "text/latex": [
       "0.8"
      ],
      "text/markdown": [
       "0.8"
      ],
      "text/plain": [
       "[1] 0.8"
      ]
     },
     "metadata": {},
     "output_type": "display_data"
    },
    {
     "data": {
      "text/html": [
       "64"
      ],
      "text/latex": [
       "64"
      ],
      "text/markdown": [
       "64"
      ],
      "text/plain": [
       "[1] 64"
      ]
     },
     "metadata": {},
     "output_type": "display_data"
    },
    {
     "data": {
      "text/plain": [
       "\n",
       " fn  fp  tn  tp \n",
       " 95  13  77 115 "
      ]
     },
     "metadata": {},
     "output_type": "display_data"
    },
    {
     "name": "stdout",
     "output_type": "stream",
     "text": [
      "------------------------"
     ]
    }
   ],
   "source": [
    "testaccuracy <- cbind(as.numeric(test_1$Default_status)-1, m1_pred@predictions[[1]])\n",
    "cutoff <- function(ctoff) {\n",
    "    t <- ifelse(testaccuracy[,2]<=ctoff,0,1)\n",
    "    tb <- cbind(testaccuracy[,1],t)\n",
    "    pn <- ifelse(tb[,1]==0 & tb[,2]==0,'tn',ifelse(tb[,1]==1 & tb[,2]==1,'tp',ifelse(tb[,1]==1 & tb[,2]==0,'fn','fp')))\n",
    "    pn <- as.factor(pn)\n",
    "    acc <- round(length(pn[pn=='tn' | pn=='tp'])*100/length(pn),2)\n",
    "    return(list(ctoff,pn,acc))\n",
    "}\n",
    "co <- c(0.2,0.3,0.8)\n",
    "t <- sapply(co,cutoff)\n",
    "t[[1]]; t[[3]]; table(t[[2]])\n",
    "cat('------------------------')\n",
    "t[[4]]; t[[6]]; table(t[[5]])\n",
    "cat('------------------------')\n",
    "t[[7]]; t[[9]]; table(t[[8]])\n",
    "cat('------------------------')"
   ]
  },
  {
   "cell_type": "code",
   "execution_count": null,
   "metadata": {
    "collapsed": true
   },
   "outputs": [],
   "source": []
  }
 ],
 "metadata": {
  "kernelspec": {
   "display_name": "R",
   "language": "R",
   "name": "ir"
  },
  "language_info": {
   "codemirror_mode": "r",
   "file_extension": ".r",
   "mimetype": "text/x-r-source",
   "name": "R",
   "pygments_lexer": "r",
   "version": "3.5.1"
  }
 },
 "nbformat": 4,
 "nbformat_minor": 2
}
